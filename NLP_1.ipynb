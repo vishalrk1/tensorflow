{
  "nbformat": 4,
  "nbformat_minor": 0,
  "metadata": {
    "colab": {
      "name": "NLP_1.ipynb",
      "provenance": [],
      "collapsed_sections": [
        "yURd6dTjH1mC"
      ],
      "authorship_tag": "ABX9TyOXFatz3nn9o/lWexniz+/K",
      "include_colab_link": true
    },
    "kernelspec": {
      "name": "python3",
      "display_name": "Python 3"
    },
    "language_info": {
      "name": "python"
    }
  },
  "cells": [
    {
      "cell_type": "markdown",
      "metadata": {
        "id": "view-in-github",
        "colab_type": "text"
      },
      "source": [
        "<a href=\"https://colab.research.google.com/github/vishalrk1/tensorflow_course/blob/main/NLP_1.ipynb\" target=\"_parent\"><img src=\"https://colab.research.google.com/assets/colab-badge.svg\" alt=\"Open In Colab\"/></a>"
      ]
    },
    {
      "cell_type": "code",
      "metadata": {
        "id": "TZgnzz-KjQXl"
      },
      "source": [
        "import numpy as np\n",
        "import pandas as pd\n",
        "import tensorflow as tf\n",
        "import matplotlib.pyplot as plt\n",
        "import seaborn as sns\n",
        "\n",
        "from tensorflow import keras\n",
        "from tensorflow.keras import layers\n",
        "from tensorflow.keras.layers import Dense, Activation"
      ],
      "execution_count": null,
      "outputs": []
    },
    {
      "cell_type": "code",
      "metadata": {
        "colab": {
          "base_uri": "https://localhost:8080/"
        },
        "id": "TTXbE5Ojh210",
        "outputId": "db5510ca-d7c8-4f2a-eae9-4fc3da6097bd"
      },
      "source": [
        "\n",
        "!wget https://raw.githubusercontent.com/mrdbourke/tensorflow-deep-learning/main/extras/helper_functions.py\n",
        "\n",
        "# importing helper function\n",
        "from helper_functions import create_tensorboard_callback, plot_loss_curves, pred_and_plot, unzip_data, walk_through_dir"
      ],
      "execution_count": null,
      "outputs": [
        {
          "output_type": "stream",
          "name": "stdout",
          "text": [
            "--2021-10-10 12:35:42--  https://raw.githubusercontent.com/mrdbourke/tensorflow-deep-learning/main/extras/helper_functions.py\n",
            "Resolving raw.githubusercontent.com (raw.githubusercontent.com)... 185.199.111.133, 185.199.109.133, 185.199.108.133, ...\n",
            "Connecting to raw.githubusercontent.com (raw.githubusercontent.com)|185.199.111.133|:443... connected.\n",
            "HTTP request sent, awaiting response... 200 OK\n",
            "Length: 10246 (10K) [text/plain]\n",
            "Saving to: ‘helper_functions.py’\n",
            "\n",
            "\rhelper_functions.py   0%[                    ]       0  --.-KB/s               \rhelper_functions.py 100%[===================>]  10.01K  --.-KB/s    in 0s      \n",
            "\n",
            "2021-10-10 12:35:42 (83.0 MB/s) - ‘helper_functions.py’ saved [10246/10246]\n",
            "\n"
          ]
        }
      ]
    },
    {
      "cell_type": "markdown",
      "metadata": {
        "id": "eanpdFLIimNl"
      },
      "source": [
        "#Text data\n",
        "\n",
        "* We are using kaggles intpro to nlp dataset"
      ]
    },
    {
      "cell_type": "code",
      "metadata": {
        "colab": {
          "base_uri": "https://localhost:8080/"
        },
        "id": "CdgOUU8Yie2y",
        "outputId": "4ecf259e-6261-49ba-8313-f35824a12b52"
      },
      "source": [
        "!wget https://storage.googleapis.com/ztm_tf_course/nlp_getting_started.zip"
      ],
      "execution_count": null,
      "outputs": [
        {
          "output_type": "stream",
          "name": "stdout",
          "text": [
            "--2021-10-10 12:35:42--  https://storage.googleapis.com/ztm_tf_course/nlp_getting_started.zip\n",
            "Resolving storage.googleapis.com (storage.googleapis.com)... 173.194.215.128, 173.194.216.128, 173.194.217.128, ...\n",
            "Connecting to storage.googleapis.com (storage.googleapis.com)|173.194.215.128|:443... connected.\n",
            "HTTP request sent, awaiting response... 200 OK\n",
            "Length: 607343 (593K) [application/zip]\n",
            "Saving to: ‘nlp_getting_started.zip’\n",
            "\n",
            "\rnlp_getting_started   0%[                    ]       0  --.-KB/s               \rnlp_getting_started 100%[===================>] 593.11K  --.-KB/s    in 0.005s  \n",
            "\n",
            "2021-10-10 12:35:42 (127 MB/s) - ‘nlp_getting_started.zip’ saved [607343/607343]\n",
            "\n"
          ]
        }
      ]
    },
    {
      "cell_type": "markdown",
      "metadata": {
        "id": "Be7AlQbL5GcT"
      },
      "source": [
        "#EDA"
      ]
    },
    {
      "cell_type": "code",
      "metadata": {
        "id": "7_XN_ShAi_mz"
      },
      "source": [
        "unzip_data('nlp_getting_started.zip')"
      ],
      "execution_count": null,
      "outputs": []
    },
    {
      "cell_type": "code",
      "metadata": {
        "id": "50gxTz-gjFDX"
      },
      "source": [
        "train_data = pd.read_csv('train.csv')\n",
        "test_data = pd.read_csv('test.csv')"
      ],
      "execution_count": null,
      "outputs": []
    },
    {
      "cell_type": "code",
      "metadata": {
        "colab": {
          "base_uri": "https://localhost:8080/",
          "height": 418
        },
        "id": "TEciAaXr3Rs4",
        "outputId": "95352e72-938b-4996-cde6-e62fbf8efb3d"
      },
      "source": [
        "train_data"
      ],
      "execution_count": null,
      "outputs": [
        {
          "output_type": "execute_result",
          "data": {
            "text/html": [
              "<div>\n",
              "<style scoped>\n",
              "    .dataframe tbody tr th:only-of-type {\n",
              "        vertical-align: middle;\n",
              "    }\n",
              "\n",
              "    .dataframe tbody tr th {\n",
              "        vertical-align: top;\n",
              "    }\n",
              "\n",
              "    .dataframe thead th {\n",
              "        text-align: right;\n",
              "    }\n",
              "</style>\n",
              "<table border=\"1\" class=\"dataframe\">\n",
              "  <thead>\n",
              "    <tr style=\"text-align: right;\">\n",
              "      <th></th>\n",
              "      <th>id</th>\n",
              "      <th>keyword</th>\n",
              "      <th>location</th>\n",
              "      <th>text</th>\n",
              "      <th>target</th>\n",
              "    </tr>\n",
              "  </thead>\n",
              "  <tbody>\n",
              "    <tr>\n",
              "      <th>0</th>\n",
              "      <td>1</td>\n",
              "      <td>NaN</td>\n",
              "      <td>NaN</td>\n",
              "      <td>Our Deeds are the Reason of this #earthquake M...</td>\n",
              "      <td>1</td>\n",
              "    </tr>\n",
              "    <tr>\n",
              "      <th>1</th>\n",
              "      <td>4</td>\n",
              "      <td>NaN</td>\n",
              "      <td>NaN</td>\n",
              "      <td>Forest fire near La Ronge Sask. Canada</td>\n",
              "      <td>1</td>\n",
              "    </tr>\n",
              "    <tr>\n",
              "      <th>2</th>\n",
              "      <td>5</td>\n",
              "      <td>NaN</td>\n",
              "      <td>NaN</td>\n",
              "      <td>All residents asked to 'shelter in place' are ...</td>\n",
              "      <td>1</td>\n",
              "    </tr>\n",
              "    <tr>\n",
              "      <th>3</th>\n",
              "      <td>6</td>\n",
              "      <td>NaN</td>\n",
              "      <td>NaN</td>\n",
              "      <td>13,000 people receive #wildfires evacuation or...</td>\n",
              "      <td>1</td>\n",
              "    </tr>\n",
              "    <tr>\n",
              "      <th>4</th>\n",
              "      <td>7</td>\n",
              "      <td>NaN</td>\n",
              "      <td>NaN</td>\n",
              "      <td>Just got sent this photo from Ruby #Alaska as ...</td>\n",
              "      <td>1</td>\n",
              "    </tr>\n",
              "    <tr>\n",
              "      <th>...</th>\n",
              "      <td>...</td>\n",
              "      <td>...</td>\n",
              "      <td>...</td>\n",
              "      <td>...</td>\n",
              "      <td>...</td>\n",
              "    </tr>\n",
              "    <tr>\n",
              "      <th>7608</th>\n",
              "      <td>10869</td>\n",
              "      <td>NaN</td>\n",
              "      <td>NaN</td>\n",
              "      <td>Two giant cranes holding a bridge collapse int...</td>\n",
              "      <td>1</td>\n",
              "    </tr>\n",
              "    <tr>\n",
              "      <th>7609</th>\n",
              "      <td>10870</td>\n",
              "      <td>NaN</td>\n",
              "      <td>NaN</td>\n",
              "      <td>@aria_ahrary @TheTawniest The out of control w...</td>\n",
              "      <td>1</td>\n",
              "    </tr>\n",
              "    <tr>\n",
              "      <th>7610</th>\n",
              "      <td>10871</td>\n",
              "      <td>NaN</td>\n",
              "      <td>NaN</td>\n",
              "      <td>M1.94 [01:04 UTC]?5km S of Volcano Hawaii. htt...</td>\n",
              "      <td>1</td>\n",
              "    </tr>\n",
              "    <tr>\n",
              "      <th>7611</th>\n",
              "      <td>10872</td>\n",
              "      <td>NaN</td>\n",
              "      <td>NaN</td>\n",
              "      <td>Police investigating after an e-bike collided ...</td>\n",
              "      <td>1</td>\n",
              "    </tr>\n",
              "    <tr>\n",
              "      <th>7612</th>\n",
              "      <td>10873</td>\n",
              "      <td>NaN</td>\n",
              "      <td>NaN</td>\n",
              "      <td>The Latest: More Homes Razed by Northern Calif...</td>\n",
              "      <td>1</td>\n",
              "    </tr>\n",
              "  </tbody>\n",
              "</table>\n",
              "<p>7613 rows × 5 columns</p>\n",
              "</div>"
            ],
            "text/plain": [
              "         id keyword  ...                                               text target\n",
              "0         1     NaN  ...  Our Deeds are the Reason of this #earthquake M...      1\n",
              "1         4     NaN  ...             Forest fire near La Ronge Sask. Canada      1\n",
              "2         5     NaN  ...  All residents asked to 'shelter in place' are ...      1\n",
              "3         6     NaN  ...  13,000 people receive #wildfires evacuation or...      1\n",
              "4         7     NaN  ...  Just got sent this photo from Ruby #Alaska as ...      1\n",
              "...     ...     ...  ...                                                ...    ...\n",
              "7608  10869     NaN  ...  Two giant cranes holding a bridge collapse int...      1\n",
              "7609  10870     NaN  ...  @aria_ahrary @TheTawniest The out of control w...      1\n",
              "7610  10871     NaN  ...  M1.94 [01:04 UTC]?5km S of Volcano Hawaii. htt...      1\n",
              "7611  10872     NaN  ...  Police investigating after an e-bike collided ...      1\n",
              "7612  10873     NaN  ...  The Latest: More Homes Razed by Northern Calif...      1\n",
              "\n",
              "[7613 rows x 5 columns]"
            ]
          },
          "metadata": {},
          "execution_count": 6
        }
      ]
    },
    {
      "cell_type": "code",
      "metadata": {
        "id": "a-dp5Xj63Z8v"
      },
      "source": [
        "train_df_shuffled = train_data.sample(frac=1, random_state=42)"
      ],
      "execution_count": null,
      "outputs": []
    },
    {
      "cell_type": "code",
      "metadata": {
        "colab": {
          "base_uri": "https://localhost:8080/",
          "height": 587
        },
        "id": "pzlhlUYT4FlB",
        "outputId": "83906d15-a2d3-4db0-ebea-abcaeeeffd21"
      },
      "source": [
        "train_df_shuffled"
      ],
      "execution_count": null,
      "outputs": [
        {
          "output_type": "execute_result",
          "data": {
            "text/html": [
              "<div>\n",
              "<style scoped>\n",
              "    .dataframe tbody tr th:only-of-type {\n",
              "        vertical-align: middle;\n",
              "    }\n",
              "\n",
              "    .dataframe tbody tr th {\n",
              "        vertical-align: top;\n",
              "    }\n",
              "\n",
              "    .dataframe thead th {\n",
              "        text-align: right;\n",
              "    }\n",
              "</style>\n",
              "<table border=\"1\" class=\"dataframe\">\n",
              "  <thead>\n",
              "    <tr style=\"text-align: right;\">\n",
              "      <th></th>\n",
              "      <th>id</th>\n",
              "      <th>keyword</th>\n",
              "      <th>location</th>\n",
              "      <th>text</th>\n",
              "      <th>target</th>\n",
              "    </tr>\n",
              "  </thead>\n",
              "  <tbody>\n",
              "    <tr>\n",
              "      <th>2644</th>\n",
              "      <td>3796</td>\n",
              "      <td>destruction</td>\n",
              "      <td>NaN</td>\n",
              "      <td>So you have a new weapon that can cause un-ima...</td>\n",
              "      <td>1</td>\n",
              "    </tr>\n",
              "    <tr>\n",
              "      <th>2227</th>\n",
              "      <td>3185</td>\n",
              "      <td>deluge</td>\n",
              "      <td>NaN</td>\n",
              "      <td>The f$&amp;amp;@ing things I do for #GISHWHES Just...</td>\n",
              "      <td>0</td>\n",
              "    </tr>\n",
              "    <tr>\n",
              "      <th>5448</th>\n",
              "      <td>7769</td>\n",
              "      <td>police</td>\n",
              "      <td>UK</td>\n",
              "      <td>DT @georgegalloway: RT @Galloway4Mayor: ÛÏThe...</td>\n",
              "      <td>1</td>\n",
              "    </tr>\n",
              "    <tr>\n",
              "      <th>132</th>\n",
              "      <td>191</td>\n",
              "      <td>aftershock</td>\n",
              "      <td>NaN</td>\n",
              "      <td>Aftershock back to school kick off was great. ...</td>\n",
              "      <td>0</td>\n",
              "    </tr>\n",
              "    <tr>\n",
              "      <th>6845</th>\n",
              "      <td>9810</td>\n",
              "      <td>trauma</td>\n",
              "      <td>Montgomery County, MD</td>\n",
              "      <td>in response to trauma Children of Addicts deve...</td>\n",
              "      <td>0</td>\n",
              "    </tr>\n",
              "    <tr>\n",
              "      <th>...</th>\n",
              "      <td>...</td>\n",
              "      <td>...</td>\n",
              "      <td>...</td>\n",
              "      <td>...</td>\n",
              "      <td>...</td>\n",
              "    </tr>\n",
              "    <tr>\n",
              "      <th>5226</th>\n",
              "      <td>7470</td>\n",
              "      <td>obliteration</td>\n",
              "      <td>Merica!</td>\n",
              "      <td>@Eganator2000 There aren't many Obliteration s...</td>\n",
              "      <td>0</td>\n",
              "    </tr>\n",
              "    <tr>\n",
              "      <th>5390</th>\n",
              "      <td>7691</td>\n",
              "      <td>panic</td>\n",
              "      <td>NaN</td>\n",
              "      <td>just had a panic attack bc I don't have enough...</td>\n",
              "      <td>0</td>\n",
              "    </tr>\n",
              "    <tr>\n",
              "      <th>860</th>\n",
              "      <td>1242</td>\n",
              "      <td>blood</td>\n",
              "      <td>NaN</td>\n",
              "      <td>Omron HEM-712C Automatic Blood Pressure Monito...</td>\n",
              "      <td>0</td>\n",
              "    </tr>\n",
              "    <tr>\n",
              "      <th>7603</th>\n",
              "      <td>10862</td>\n",
              "      <td>NaN</td>\n",
              "      <td>NaN</td>\n",
              "      <td>Officials say a quarantine is in place at an A...</td>\n",
              "      <td>1</td>\n",
              "    </tr>\n",
              "    <tr>\n",
              "      <th>7270</th>\n",
              "      <td>10409</td>\n",
              "      <td>whirlwind</td>\n",
              "      <td>Stamford &amp; Cork (&amp; Shropshire)</td>\n",
              "      <td>I moved to England five years ago today. What ...</td>\n",
              "      <td>1</td>\n",
              "    </tr>\n",
              "  </tbody>\n",
              "</table>\n",
              "<p>7613 rows × 5 columns</p>\n",
              "</div>"
            ],
            "text/plain": [
              "         id  ... target\n",
              "2644   3796  ...      1\n",
              "2227   3185  ...      0\n",
              "5448   7769  ...      1\n",
              "132     191  ...      0\n",
              "6845   9810  ...      0\n",
              "...     ...  ...    ...\n",
              "5226   7470  ...      0\n",
              "5390   7691  ...      0\n",
              "860    1242  ...      0\n",
              "7603  10862  ...      1\n",
              "7270  10409  ...      1\n",
              "\n",
              "[7613 rows x 5 columns]"
            ]
          },
          "metadata": {},
          "execution_count": 8
        }
      ]
    },
    {
      "cell_type": "code",
      "metadata": {
        "colab": {
          "base_uri": "https://localhost:8080/"
        },
        "id": "ohnPHHj64HtU",
        "outputId": "cfaef51b-b014-46db-fff0-c51fbc12aaf6"
      },
      "source": [
        "train_data['target'].value_counts()"
      ],
      "execution_count": null,
      "outputs": [
        {
          "output_type": "execute_result",
          "data": {
            "text/plain": [
              "0    4342\n",
              "1    3271\n",
              "Name: target, dtype: int64"
            ]
          },
          "metadata": {},
          "execution_count": 9
        }
      ]
    },
    {
      "cell_type": "code",
      "metadata": {
        "colab": {
          "base_uri": "https://localhost:8080/"
        },
        "id": "E8AqLbpr4T7K",
        "outputId": "d6f5d239-6f5c-4a94-acc4-4fea05d2b2c8"
      },
      "source": [
        "import random\n",
        "random_index = random.randint(0, len(train_data)-5)\n",
        "\n",
        "for row in train_df_shuffled[['text', 'target']][random_index:random_index+5].itertuples():\n",
        "  _, text, target = row\n",
        "  print(f\"Target: {target}\", '(real diaster)' if target > 0 else '(not real diaster)')\n",
        "  print(f\"Text: {text}\")\n",
        "  print('---\\n')"
      ],
      "execution_count": null,
      "outputs": [
        {
          "output_type": "stream",
          "name": "stdout",
          "text": [
            "Target: 0 (not real diaster)\n",
            "Text: A friend is like blood they are not beside us always. But they come out when we are wounded.\n",
            "---\n",
            "\n",
            "Target: 0 (not real diaster)\n",
            "Text: Motors Hot Deals #452 &gt;&gt; http://t.co/ED32PBviO7 10x 27W 12V 24V LED Work Light FLOOD Lamp Tractor Truck SUV UTV AÛ_ http://t.co/IfM6v6480P\n",
            "---\n",
            "\n",
            "Target: 1 (real diaster)\n",
            "Text: I-77 Mile Marker 31 to 40 South Mooresville  Iredell Vehicle Accident Congestion at 8/6 1:18 PM\n",
            "---\n",
            "\n",
            "Target: 0 (not real diaster)\n",
            "Text: Also in a matter of weeks Amazon's going to be deluged with poorly written indie dystopian fiction about teens escaping from blood farms.\n",
            "---\n",
            "\n",
            "Target: 0 (not real diaster)\n",
            "Text: Captain Abbott must go down with LNP boat #refugees #christianvalues https://t.co/Kp5dpOaF58\n",
            "---\n",
            "\n"
          ]
        }
      ]
    },
    {
      "cell_type": "markdown",
      "metadata": {
        "id": "bcaxnln87qlp"
      },
      "source": [
        "#Spliting data into training and validation sets"
      ]
    },
    {
      "cell_type": "code",
      "metadata": {
        "id": "gND8eTSX5SAG"
      },
      "source": [
        "from sklearn.model_selection import train_test_split"
      ],
      "execution_count": null,
      "outputs": []
    },
    {
      "cell_type": "code",
      "metadata": {
        "id": "BeXH6O4z7xEv"
      },
      "source": [
        "train_sentences, val_sentences, train_labels, val_labels = train_test_split(\n",
        "    train_df_shuffled['text'].to_numpy(), \n",
        "    train_df_shuffled['target'].to_numpy(),\n",
        "    test_size=0.2, \n",
        "    random_state=42,\n",
        ")"
      ],
      "execution_count": null,
      "outputs": []
    },
    {
      "cell_type": "code",
      "metadata": {
        "colab": {
          "base_uri": "https://localhost:8080/"
        },
        "id": "WFTUwQ718x1I",
        "outputId": "37ff7403-6f46-4703-9822-cc9713c6ef0d"
      },
      "source": [
        "len(train_sentences), len(val_sentences)"
      ],
      "execution_count": null,
      "outputs": [
        {
          "output_type": "execute_result",
          "data": {
            "text/plain": [
              "(6090, 1523)"
            ]
          },
          "metadata": {},
          "execution_count": 13
        }
      ]
    },
    {
      "cell_type": "code",
      "metadata": {
        "colab": {
          "base_uri": "https://localhost:8080/"
        },
        "id": "XCqo48K984J1",
        "outputId": "3a9b153a-748e-41aa-927e-e367f59e6f39"
      },
      "source": [
        "train_sentences[:10]"
      ],
      "execution_count": null,
      "outputs": [
        {
          "output_type": "execute_result",
          "data": {
            "text/plain": [
              "array(['Detonation fashionable mountaineering electronic watch water-resistant couples leisure tab\\x89Û_ http://t.co/E61x9Y65QD http://t.co/OVLET0gDqm',\n",
              "       \"Men escape car engulfed in flames in Parley's Canyon crews investigating cause - http://t.co/tFan6qq2Ys http://t.co/rAkwWritPo\",\n",
              "       'I-77 Mile Marker 31 to 40 South Mooresville  Iredell Vehicle Accident Congestion at 8/6 1:18 PM',\n",
              "       \"#Greece's tax revenues collapse as debt crisis continues via @guardian #bailout http://t.co/cJvbQXw83s ^mp\",\n",
              "       'Be not afraid of sudden fear neither of the desolation of the wicked when it cometh. For the Lord shall be thy... http://t.co/bP597YDs2b',\n",
              "       'Storm batters Auckland and Northland: A violent overnight storm has battered Auckland and Northland uprooting... http://t.co/enrPGRgtTs',\n",
              "       \"Benzema increasingly looks to be a casualty of Benitez's new look squad. Arsenal bound? 50-50 chance I think\",\n",
              "       'Acquire your postexistence straight a elevation in addition to upheaval ideas yet perquisite: bRZjc',\n",
              "       \"@NeanderRebel If you take the suit off him I wouldn't be surprised to hear this is the face that belonged to another democrat mass-murderer\",\n",
              "       'kc5kH mhtw4fnet\\n\\nCrews gaining on huge Northern California wildfire - CBS News'],\n",
              "      dtype=object)"
            ]
          },
          "metadata": {},
          "execution_count": 14
        }
      ]
    },
    {
      "cell_type": "code",
      "metadata": {
        "colab": {
          "base_uri": "https://localhost:8080/"
        },
        "id": "LwpBeaGR88Ji",
        "outputId": "4af05f9a-ec27-4167-d72e-c705c8345298"
      },
      "source": [
        "train_labels[:10]"
      ],
      "execution_count": null,
      "outputs": [
        {
          "output_type": "execute_result",
          "data": {
            "text/plain": [
              "array([0, 1, 1, 1, 0, 1, 1, 0, 1, 1])"
            ]
          },
          "metadata": {},
          "execution_count": 15
        }
      ]
    },
    {
      "cell_type": "markdown",
      "metadata": {
        "id": "8HfNZFnq9LuK"
      },
      "source": [
        "#Converting Text into numbers "
      ]
    },
    {
      "cell_type": "markdown",
      "metadata": {
        "id": "t9HKR1ig9kP2"
      },
      "source": [
        "* **Tokenization:** straight mapping from token to number ( can be modelled but quick gets too big)\n",
        "* **Embedding:** RIcher representation of relationship between tokens ( can limit size + can be learned)"
      ]
    },
    {
      "cell_type": "code",
      "metadata": {
        "id": "Bm9rqViI8_PM"
      },
      "source": [
        "from tensorflow.keras.layers import TextVectorization"
      ],
      "execution_count": null,
      "outputs": []
    },
    {
      "cell_type": "code",
      "metadata": {
        "id": "XbazFdNPANft"
      },
      "source": [
        "# text_vectorizer = TextVectorization(\n",
        "#     max_tokens=10000,\n",
        "#     standardize='lower_and_strip_punctuation',\n",
        "#     split='whitespace',\n",
        "#     output_mode='int',\n",
        "#     output_sequence_length=None,\n",
        "#     pad_to_max_tokens=True,\n",
        "# )"
      ],
      "execution_count": null,
      "outputs": []
    },
    {
      "cell_type": "markdown",
      "metadata": {
        "id": "C3vEwJRXDhVL"
      },
      "source": [
        "* Finfding the average numbers o token (words) in the training tweets"
      ]
    },
    {
      "cell_type": "code",
      "metadata": {
        "colab": {
          "base_uri": "https://localhost:8080/"
        },
        "id": "JiKKKhGkCu8Y",
        "outputId": "99de5da7-0b80-4d86-f844-d29f7c72b089"
      },
      "source": [
        "round(sum([len(i.split()) for i in train_sentences])/ len(train_sentences))"
      ],
      "execution_count": null,
      "outputs": [
        {
          "output_type": "execute_result",
          "data": {
            "text/plain": [
              "15"
            ]
          },
          "metadata": {},
          "execution_count": 18
        }
      ]
    },
    {
      "cell_type": "markdown",
      "metadata": {
        "id": "Wgu8N4ATD1fg"
      },
      "source": [
        "* setting up text vectorization"
      ]
    },
    {
      "cell_type": "code",
      "metadata": {
        "id": "PZV6DRxIDztY"
      },
      "source": [
        "max_vocab_length = 10000\n",
        "max_length = 15\n",
        "\n",
        "text_vectorizer = TextVectorization(\n",
        "    max_tokens=max_vocab_length,\n",
        "    output_mode='int',\n",
        "    output_sequence_length=max_length,\n",
        ")"
      ],
      "execution_count": null,
      "outputs": []
    },
    {
      "cell_type": "markdown",
      "metadata": {
        "id": "wGmyN8e4ESmz"
      },
      "source": [
        "* mapping text vectorizer to trian data"
      ]
    },
    {
      "cell_type": "code",
      "metadata": {
        "id": "eYcYC8zOEROT"
      },
      "source": [
        "text_vectorizer.adapt(train_sentences)"
      ],
      "execution_count": null,
      "outputs": []
    },
    {
      "cell_type": "code",
      "metadata": {
        "colab": {
          "base_uri": "https://localhost:8080/"
        },
        "id": "JK_9-9eWFkX9",
        "outputId": "3e660cb2-0450-43c4-c633-8acd98fd4c32"
      },
      "source": [
        "# ssample \n",
        "sample_txt = 'there is a fire in mountains'\n",
        "text_vectorizer([sample_txt])"
      ],
      "execution_count": null,
      "outputs": [
        {
          "output_type": "execute_result",
          "data": {
            "text/plain": [
              "<tf.Tensor: shape=(1, 15), dtype=int64, numpy=\n",
              "array([[  75,    9,    3,   44,    4, 3339,    0,    0,    0,    0,    0,\n",
              "           0,    0,    0,    0]])>"
            ]
          },
          "metadata": {},
          "execution_count": 21
        }
      ]
    },
    {
      "cell_type": "code",
      "metadata": {
        "colab": {
          "base_uri": "https://localhost:8080/"
        },
        "id": "9FaOPca6F4zT",
        "outputId": "f05ce149-0e74-4fb9-a8a6-660a0a4a4f06"
      },
      "source": [
        "random_txt = random.choice(train_sentences)\n",
        "print(random_txt)\n",
        "text_vectorizer([random_txt])"
      ],
      "execution_count": null,
      "outputs": [
        {
          "output_type": "stream",
          "name": "stdout",
          "text": [
            "Dr Jack Stern Interview Ending Back Pain for #Military #Injury. Listen now: http://t.co/YhH7X0MAio\n"
          ]
        },
        {
          "output_type": "execute_result",
          "data": {
            "text/plain": [
              "<tf.Tensor: shape=(1, 15), dtype=int64, numpy=\n",
              "array([[1308, 2235, 7461, 2242, 3595,   87,  901,   10,  252,  355, 1092,\n",
              "          49,    1,    0,    0]])>"
            ]
          },
          "metadata": {},
          "execution_count": 22
        }
      ]
    },
    {
      "cell_type": "markdown",
      "metadata": {
        "id": "Jn_-aP21Gizp"
      },
      "source": [
        "* All the unique words in vocabularuy"
      ]
    },
    {
      "cell_type": "code",
      "metadata": {
        "colab": {
          "base_uri": "https://localhost:8080/"
        },
        "id": "lAl6wqjCGQLW",
        "outputId": "6f2b557d-0d14-41b1-97a5-2873d3b9fcdb"
      },
      "source": [
        "words_in_vocab = text_vectorizer.get_vocabulary()\n",
        "top_5_words = words_in_vocab[:5]\n",
        "bottom_5_words = words_in_vocab[-5:]\n",
        "print(f\"Top words = {top_5_words}\")\n",
        "print(f\"botoom words = {bottom_5_words}\")"
      ],
      "execution_count": null,
      "outputs": [
        {
          "output_type": "stream",
          "name": "stdout",
          "text": [
            "Top words = ['', '[UNK]', 'the', 'a', 'in']\n",
            "botoom words = ['minded', 'mindblowing', 'milne', 'milledgeville', 'millcityio']\n"
          ]
        }
      ]
    },
    {
      "cell_type": "markdown",
      "metadata": {
        "id": "yURd6dTjH1mC"
      },
      "source": [
        "##**Creating and Embedding**"
      ]
    },
    {
      "cell_type": "code",
      "metadata": {
        "id": "Aqw2EUZoHB98"
      },
      "source": [
        "embedding = layers.Embedding(\n",
        "    input_dim = max_vocab_length, \n",
        "    output_dim = 128,\n",
        "    input_length = max_length,\n",
        ")"
      ],
      "execution_count": null,
      "outputs": []
    },
    {
      "cell_type": "code",
      "metadata": {
        "colab": {
          "base_uri": "https://localhost:8080/"
        },
        "id": "xpJMQML2JV32",
        "outputId": "20623a89-f38e-4a02-bad9-37d0c985ae41"
      },
      "source": [
        "# testin output on random sample\n",
        "random_txt = random.choice(train_sentences)\n",
        "print(f\"{random_txt}\\n\")\n",
        "embedding(text_vectorizer([random_txt]))"
      ],
      "execution_count": null,
      "outputs": [
        {
          "output_type": "stream",
          "name": "stdout",
          "text": [
            "Tomorrow's evening commute receives a RED LIGHT. A rainstorm impacting the region will push it's way in late evening. http://t.co/DRvm8ISOtE\n",
            "\n"
          ]
        },
        {
          "output_type": "execute_result",
          "data": {
            "text/plain": [
              "<tf.Tensor: shape=(1, 15, 128), dtype=float32, numpy=\n",
              "array([[[-0.0097683 , -0.03532   , -0.0375388 , ...,  0.03269902,\n",
              "          0.03462768,  0.02940806],\n",
              "        [ 0.02311753, -0.0487127 , -0.02819159, ..., -0.03896398,\n",
              "          0.00074847, -0.04364047],\n",
              "        [-0.00890167, -0.03441294, -0.01177008, ...,  0.04395248,\n",
              "         -0.00972424, -0.00537852],\n",
              "        ...,\n",
              "        [ 0.02206543, -0.0468816 ,  0.04538914, ...,  0.0330366 ,\n",
              "         -0.04132297,  0.04651804],\n",
              "        [ 0.01358756,  0.01141802, -0.01478847, ...,  0.03177066,\n",
              "          0.01923456,  0.04971106],\n",
              "        [ 0.01326852,  0.02219133,  0.03666616, ..., -0.01550306,\n",
              "         -0.03052937, -0.00233827]]], dtype=float32)>"
            ]
          },
          "metadata": {},
          "execution_count": 25
        }
      ]
    },
    {
      "cell_type": "markdown",
      "metadata": {
        "id": "emznQc-ZK5Zh"
      },
      "source": [
        "#Bulding Different Model"
      ]
    },
    {
      "cell_type": "markdown",
      "metadata": {
        "id": "HY0gIEdxLfxB"
      },
      "source": [
        "##0. NaiveBase Model"
      ]
    },
    {
      "cell_type": "code",
      "metadata": {
        "id": "Bm4OMVXLLufZ"
      },
      "source": [
        " from sklearn.feature_extraction.text import TfidfVectorizer\n",
        " from sklearn.naive_bayes import MultinomialNB\n",
        " from sklearn.pipeline import Pipeline"
      ],
      "execution_count": null,
      "outputs": []
    },
    {
      "cell_type": "code",
      "metadata": {
        "colab": {
          "base_uri": "https://localhost:8080/"
        },
        "id": "1dCxiG6kT6tC",
        "outputId": "4c33251d-d6a8-4be1-a025-6be2cff448c8"
      },
      "source": [
        "model_0 = Pipeline([\n",
        "                     ('tfidf', TfidfVectorizer()),\n",
        "                     ('clf', MultinomialNB()),\n",
        "])\n",
        "\n",
        "model_0.fit(train_sentences, train_labels)"
      ],
      "execution_count": null,
      "outputs": [
        {
          "output_type": "execute_result",
          "data": {
            "text/plain": [
              "Pipeline(memory=None,\n",
              "         steps=[('tfidf',\n",
              "                 TfidfVectorizer(analyzer='word', binary=False,\n",
              "                                 decode_error='strict',\n",
              "                                 dtype=<class 'numpy.float64'>,\n",
              "                                 encoding='utf-8', input='content',\n",
              "                                 lowercase=True, max_df=1.0, max_features=None,\n",
              "                                 min_df=1, ngram_range=(1, 1), norm='l2',\n",
              "                                 preprocessor=None, smooth_idf=True,\n",
              "                                 stop_words=None, strip_accents=None,\n",
              "                                 sublinear_tf=False,\n",
              "                                 token_pattern='(?u)\\\\b\\\\w\\\\w+\\\\b',\n",
              "                                 tokenizer=None, use_idf=True,\n",
              "                                 vocabulary=None)),\n",
              "                ('clf',\n",
              "                 MultinomialNB(alpha=1.0, class_prior=None, fit_prior=True))],\n",
              "         verbose=False)"
            ]
          },
          "metadata": {},
          "execution_count": 27
        }
      ]
    },
    {
      "cell_type": "code",
      "metadata": {
        "colab": {
          "base_uri": "https://localhost:8080/"
        },
        "id": "TlfAWM4QUZ4f",
        "outputId": "0168c330-c762-4715-a6b4-d3d758021ab2"
      },
      "source": [
        "# evaluation model \n",
        "baseline_score = model_0.score(val_sentences, val_labels)\n",
        "baseline_score"
      ],
      "execution_count": null,
      "outputs": [
        {
          "output_type": "execute_result",
          "data": {
            "text/plain": [
              "0.799080761654629"
            ]
          },
          "metadata": {},
          "execution_count": 28
        }
      ]
    },
    {
      "cell_type": "code",
      "metadata": {
        "id": "Bn-WNfeBXawu"
      },
      "source": [
        "baseline_pred = model_0.predict(val_sentences)"
      ],
      "execution_count": null,
      "outputs": []
    },
    {
      "cell_type": "markdown",
      "metadata": {
        "id": "JX9cKQxEVEMv"
      },
      "source": [
        "###Function for model evaluation"
      ]
    },
    {
      "cell_type": "code",
      "metadata": {
        "id": "ccqbFoZxUjuG"
      },
      "source": [
        "from sklearn.metrics import classification_report, accuracy_score, precision_recall_fscore_support"
      ],
      "execution_count": null,
      "outputs": []
    },
    {
      "cell_type": "code",
      "metadata": {
        "id": "xseR-TRzVTQv"
      },
      "source": [
        "def calculate_result(y_true, y_pred):\n",
        "  accuracy = accuracy_score(y_true, y_pred)\n",
        "  model_precision, model_recall, model_f1, _ = precision_recall_fscore_support(y_true, y_pred, average='weighted')\n",
        "  model_results = {\n",
        "      'accurecy': accuracy,\n",
        "      'precision': model_precision,\n",
        "      'recall': model_recall,\n",
        "      'f1-score': model_f1,\n",
        "  }\n",
        "\n",
        "  return model_results"
      ],
      "execution_count": null,
      "outputs": []
    },
    {
      "cell_type": "code",
      "metadata": {
        "colab": {
          "base_uri": "https://localhost:8080/"
        },
        "id": "KitowSt8XI1Z",
        "outputId": "f12f468e-3731-4f37-faa8-c2a100c24ebd"
      },
      "source": [
        "baseline_results = calculate_result(y_true=val_labels, y_pred=baseline_pred)\n",
        "baseline_results"
      ],
      "execution_count": null,
      "outputs": [
        {
          "output_type": "execute_result",
          "data": {
            "text/plain": [
              "{'accurecy': 0.799080761654629,\n",
              " 'f1-score': 0.7920155324845473,\n",
              " 'precision': 0.8146358812834972,\n",
              " 'recall': 0.799080761654629}"
            ]
          },
          "metadata": {},
          "execution_count": 32
        }
      ]
    },
    {
      "cell_type": "markdown",
      "metadata": {
        "id": "eCtW6aOFX7fv"
      },
      "source": [
        "##1. A Simple dense model"
      ]
    },
    {
      "cell_type": "code",
      "metadata": {
        "id": "FSu33JTgXWM9"
      },
      "source": [
        "from helper_functions import create_tensorboard_callback\n",
        "\n",
        "save_dir = 'model_1_logs'"
      ],
      "execution_count": null,
      "outputs": []
    },
    {
      "cell_type": "code",
      "metadata": {
        "id": "iuij5iFGYIOt"
      },
      "source": [
        "inputs = layers.Input(shape=(1,), dtype=tf.string)\n",
        "x = text_vectorizer(inputs)\n",
        "x = embedding(x)\n",
        "x = layers.GlobalAveragePooling1D()(x)\n",
        "outputs = layers.Dense(1, activation='sigmoid')(x)\n",
        "\n",
        "model_1 = tf.keras.Model(inputs, outputs, name='model_1_dense')"
      ],
      "execution_count": null,
      "outputs": []
    },
    {
      "cell_type": "code",
      "metadata": {
        "colab": {
          "base_uri": "https://localhost:8080/"
        },
        "id": "q_vv9TGIZnr9",
        "outputId": "e3b559b2-e510-4a1e-8b16-ab42f4891824"
      },
      "source": [
        "model_1.summary()"
      ],
      "execution_count": null,
      "outputs": [
        {
          "output_type": "stream",
          "name": "stdout",
          "text": [
            "Model: \"model_1_dense\"\n",
            "_________________________________________________________________\n",
            "Layer (type)                 Output Shape              Param #   \n",
            "=================================================================\n",
            "input_1 (InputLayer)         [(None, 1)]               0         \n",
            "_________________________________________________________________\n",
            "text_vectorization (TextVect (None, 15)                0         \n",
            "_________________________________________________________________\n",
            "embedding (Embedding)        (None, 15, 128)           1280000   \n",
            "_________________________________________________________________\n",
            "global_average_pooling1d (Gl (None, 128)               0         \n",
            "_________________________________________________________________\n",
            "dense (Dense)                (None, 1)                 129       \n",
            "=================================================================\n",
            "Total params: 1,280,129\n",
            "Trainable params: 1,280,129\n",
            "Non-trainable params: 0\n",
            "_________________________________________________________________\n"
          ]
        }
      ]
    },
    {
      "cell_type": "code",
      "metadata": {
        "id": "LA1idC9NZtTx"
      },
      "source": [
        "model_1.compile(\n",
        "    loss = 'binary_crossentropy',\n",
        "    optimizer = tf.keras.optimizers.Adam(),\n",
        "    metrics = ['accuracy']\n",
        ")"
      ],
      "execution_count": null,
      "outputs": []
    },
    {
      "cell_type": "code",
      "metadata": {
        "colab": {
          "base_uri": "https://localhost:8080/"
        },
        "id": "djeC-XWxZ9bB",
        "outputId": "e4e24cfc-c9eb-4906-d3cc-4f5cba3b58d6"
      },
      "source": [
        "model_1.fit(\n",
        "    x=train_sentences,\n",
        "    y=train_labels,\n",
        "    epochs=5,\n",
        "    validation_data = (val_sentences, val_labels),\n",
        "    callbacks = [\n",
        "                 create_tensorboard_callback(dir_name=save_dir,experiment_name='model_1')\n",
        "    ]\n",
        ")"
      ],
      "execution_count": null,
      "outputs": [
        {
          "output_type": "stream",
          "name": "stdout",
          "text": [
            "Saving TensorBoard log files to: model_1_logs/model_1/20211010-123544\n",
            "Epoch 1/5\n",
            "191/191 [==============================] - 4s 18ms/step - loss: 0.6197 - accuracy: 0.6880 - val_loss: 0.5459 - val_accuracy: 0.7492\n",
            "Epoch 2/5\n",
            "191/191 [==============================] - 3s 16ms/step - loss: 0.4526 - accuracy: 0.8144 - val_loss: 0.4743 - val_accuracy: 0.7853\n",
            "Epoch 3/5\n",
            "191/191 [==============================] - 3s 16ms/step - loss: 0.3519 - accuracy: 0.8598 - val_loss: 0.4616 - val_accuracy: 0.7932\n",
            "Epoch 4/5\n",
            "191/191 [==============================] - 3s 16ms/step - loss: 0.2855 - accuracy: 0.8898 - val_loss: 0.4656 - val_accuracy: 0.7912\n",
            "Epoch 5/5\n",
            "191/191 [==============================] - 3s 16ms/step - loss: 0.2362 - accuracy: 0.9125 - val_loss: 0.4791 - val_accuracy: 0.7899\n"
          ]
        },
        {
          "output_type": "execute_result",
          "data": {
            "text/plain": [
              "<keras.callbacks.History at 0x7f35f39c3990>"
            ]
          },
          "metadata": {},
          "execution_count": 37
        }
      ]
    },
    {
      "cell_type": "code",
      "metadata": {
        "colab": {
          "base_uri": "https://localhost:8080/"
        },
        "id": "24ph6u0eN5oz",
        "outputId": "242507b3-cbde-4bdb-b3c5-c62cfd437b8f"
      },
      "source": [
        "model_1.evaluate(val_sentences, val_labels)"
      ],
      "execution_count": null,
      "outputs": [
        {
          "output_type": "stream",
          "name": "stdout",
          "text": [
            "48/48 [==============================] - 0s 2ms/step - loss: 0.4791 - accuracy: 0.7899\n"
          ]
        },
        {
          "output_type": "execute_result",
          "data": {
            "text/plain": [
              "[0.4791228473186493, 0.7898883819580078]"
            ]
          },
          "metadata": {},
          "execution_count": 38
        }
      ]
    },
    {
      "cell_type": "code",
      "metadata": {
        "id": "b5rl6fvFOJI6"
      },
      "source": [
        "model_1_pred = model_1.predict(val_sentences)"
      ],
      "execution_count": null,
      "outputs": []
    },
    {
      "cell_type": "code",
      "metadata": {
        "colab": {
          "base_uri": "https://localhost:8080/"
        },
        "id": "ChuS_9DXObKZ",
        "outputId": "fe7453ce-f3f0-4ec2-d264-817fa39cf9ce"
      },
      "source": [
        "model_1_pred"
      ],
      "execution_count": null,
      "outputs": [
        {
          "output_type": "execute_result",
          "data": {
            "text/plain": [
              "array([[0.3993531 ],\n",
              "       [0.85578084],\n",
              "       [0.9968852 ],\n",
              "       ...,\n",
              "       [0.3369968 ],\n",
              "       [0.9724716 ],\n",
              "       [0.9962152 ]], dtype=float32)"
            ]
          },
          "metadata": {},
          "execution_count": 40
        }
      ]
    },
    {
      "cell_type": "code",
      "metadata": {
        "colab": {
          "base_uri": "https://localhost:8080/"
        },
        "id": "fFJfks12Pa3O",
        "outputId": "06ffc76b-c4dd-4476-dd7c-b5be47d5e9c2"
      },
      "source": [
        "model_1_preds = tf.squeeze(tf.round(model_1_pred))\n",
        "model_1_preds"
      ],
      "execution_count": null,
      "outputs": [
        {
          "output_type": "execute_result",
          "data": {
            "text/plain": [
              "<tf.Tensor: shape=(1523,), dtype=float32, numpy=array([0., 1., 1., ..., 0., 1., 1.], dtype=float32)>"
            ]
          },
          "metadata": {},
          "execution_count": 41
        }
      ]
    },
    {
      "cell_type": "code",
      "metadata": {
        "id": "cHCWM2IcOSl6"
      },
      "source": [
        "model_1_results = calculate_result(val_labels, model_1_preds)"
      ],
      "execution_count": null,
      "outputs": []
    },
    {
      "cell_type": "markdown",
      "metadata": {
        "id": "7yaJVyVxQ12I"
      },
      "source": [
        "###**Vizualizing learned embedding**"
      ]
    },
    {
      "cell_type": "code",
      "metadata": {
        "colab": {
          "base_uri": "https://localhost:8080/"
        },
        "id": "5rjIthcPOWAB",
        "outputId": "1839af20-89b0-4373-8d8a-e8b5b3d01f30"
      },
      "source": [
        "len(words_in_vocab), words_in_vocab[:10]"
      ],
      "execution_count": null,
      "outputs": [
        {
          "output_type": "execute_result",
          "data": {
            "text/plain": [
              "(10000, ['', '[UNK]', 'the', 'a', 'in', 'to', 'of', 'and', 'i', 'is'])"
            ]
          },
          "metadata": {},
          "execution_count": 43
        }
      ]
    },
    {
      "cell_type": "code",
      "metadata": {
        "colab": {
          "base_uri": "https://localhost:8080/"
        },
        "id": "z9m19EE7r7rY",
        "outputId": "eaa5cc58-b780-4d2c-8c53-9ea26cdb6022"
      },
      "source": [
        "model_1.summary()"
      ],
      "execution_count": null,
      "outputs": [
        {
          "output_type": "stream",
          "name": "stdout",
          "text": [
            "Model: \"model_1_dense\"\n",
            "_________________________________________________________________\n",
            "Layer (type)                 Output Shape              Param #   \n",
            "=================================================================\n",
            "input_1 (InputLayer)         [(None, 1)]               0         \n",
            "_________________________________________________________________\n",
            "text_vectorization (TextVect (None, 15)                0         \n",
            "_________________________________________________________________\n",
            "embedding (Embedding)        (None, 15, 128)           1280000   \n",
            "_________________________________________________________________\n",
            "global_average_pooling1d (Gl (None, 128)               0         \n",
            "_________________________________________________________________\n",
            "dense (Dense)                (None, 1)                 129       \n",
            "=================================================================\n",
            "Total params: 1,280,129\n",
            "Trainable params: 1,280,129\n",
            "Non-trainable params: 0\n",
            "_________________________________________________________________\n"
          ]
        }
      ]
    },
    {
      "cell_type": "code",
      "metadata": {
        "colab": {
          "base_uri": "https://localhost:8080/"
        },
        "id": "Fl1tS9bcRE0s",
        "outputId": "14a056ec-3ca4-4c17-ea14-24375c9d554a"
      },
      "source": [
        "embed_weights = model_1.get_layer('embedding').get_weights()[0]\n",
        "embed_weights.shape"
      ],
      "execution_count": null,
      "outputs": [
        {
          "output_type": "execute_result",
          "data": {
            "text/plain": [
              "(10000, 128)"
            ]
          },
          "metadata": {},
          "execution_count": 45
        }
      ]
    },
    {
      "cell_type": "markdown",
      "metadata": {
        "id": "ifZDuwjuw40b"
      },
      "source": [
        "##3. RNN Model:- LSTM\n",
        "\n",
        "* **LSTM MODEL**"
      ]
    },
    {
      "cell_type": "code",
      "metadata": {
        "id": "uCd4TXjnsL-i"
      },
      "source": [
        "inputs = layers.Input(shape=(1, ), dtype='string')\n",
        "x = text_vectorizer(inputs)\n",
        "x = embedding(x)\n",
        "x = layers.LSTM(64, return_sequences=True)(x)\n",
        "x = layers.LSTM(64)(x)\n",
        "x = layers.Dense(64, activation='relu')(x)\n",
        "outputs = layers.Dense(1, activation='sigmoid')(x)\n",
        "\n",
        "model_2 = tf.keras.Model(inputs, outputs, name='model_2_LSTM')"
      ],
      "execution_count": null,
      "outputs": []
    },
    {
      "cell_type": "code",
      "metadata": {
        "colab": {
          "base_uri": "https://localhost:8080/"
        },
        "id": "5KNOaT6I0r5V",
        "outputId": "be4285a2-f2e4-49f9-ca0e-d93489ddf0cd"
      },
      "source": [
        "model_2.summary()"
      ],
      "execution_count": null,
      "outputs": [
        {
          "output_type": "stream",
          "name": "stdout",
          "text": [
            "Model: \"model_2_LSTM\"\n",
            "_________________________________________________________________\n",
            "Layer (type)                 Output Shape              Param #   \n",
            "=================================================================\n",
            "input_2 (InputLayer)         [(None, 1)]               0         \n",
            "_________________________________________________________________\n",
            "text_vectorization (TextVect (None, 15)                0         \n",
            "_________________________________________________________________\n",
            "embedding (Embedding)        (None, 15, 128)           1280000   \n",
            "_________________________________________________________________\n",
            "lstm (LSTM)                  (None, 15, 64)            49408     \n",
            "_________________________________________________________________\n",
            "lstm_1 (LSTM)                (None, 64)                33024     \n",
            "_________________________________________________________________\n",
            "dense_1 (Dense)              (None, 64)                4160      \n",
            "_________________________________________________________________\n",
            "dense_2 (Dense)              (None, 1)                 65        \n",
            "=================================================================\n",
            "Total params: 1,366,657\n",
            "Trainable params: 1,366,657\n",
            "Non-trainable params: 0\n",
            "_________________________________________________________________\n"
          ]
        }
      ]
    },
    {
      "cell_type": "code",
      "metadata": {
        "id": "XTC5UARJ0vry"
      },
      "source": [
        "model_2.compile(\n",
        "    loss = 'binary_crossentropy',\n",
        "    optimizer = tf.keras.optimizers.Adam(),\n",
        "    metrics = ['accuracy']\n",
        ")"
      ],
      "execution_count": null,
      "outputs": []
    },
    {
      "cell_type": "code",
      "metadata": {
        "colab": {
          "base_uri": "https://localhost:8080/"
        },
        "id": "1V-Ss6zu08KD",
        "outputId": "b7d45fcc-1312-4da0-90d1-5e4d9c858c11"
      },
      "source": [
        "model_2.fit(\n",
        "    train_sentences,\n",
        "    train_labels,\n",
        "    epochs = 5,\n",
        "    validation_data = (val_sentences, val_labels),\n",
        "    callbacks = [create_tensorboard_callback(save_dir, 'model_2_logs')]\n",
        ")"
      ],
      "execution_count": null,
      "outputs": [
        {
          "output_type": "stream",
          "name": "stdout",
          "text": [
            "Saving TensorBoard log files to: model_1_logs/model_2_logs/20211010-123602\n",
            "Epoch 1/5\n",
            "191/191 [==============================] - 12s 44ms/step - loss: 0.2142 - accuracy: 0.9243 - val_loss: 0.5637 - val_accuracy: 0.7853\n",
            "Epoch 2/5\n",
            "191/191 [==============================] - 7s 37ms/step - loss: 0.1539 - accuracy: 0.9455 - val_loss: 0.6555 - val_accuracy: 0.7630\n",
            "Epoch 3/5\n",
            "191/191 [==============================] - 7s 36ms/step - loss: 0.1187 - accuracy: 0.9567 - val_loss: 0.7890 - val_accuracy: 0.7814\n",
            "Epoch 4/5\n",
            "191/191 [==============================] - 7s 37ms/step - loss: 0.0981 - accuracy: 0.9624 - val_loss: 0.8016 - val_accuracy: 0.7754\n",
            "Epoch 5/5\n",
            "191/191 [==============================] - 7s 37ms/step - loss: 0.0789 - accuracy: 0.9688 - val_loss: 0.9348 - val_accuracy: 0.7833\n"
          ]
        },
        {
          "output_type": "execute_result",
          "data": {
            "text/plain": [
              "<keras.callbacks.History at 0x7f35f293d610>"
            ]
          },
          "metadata": {},
          "execution_count": 49
        }
      ]
    },
    {
      "cell_type": "code",
      "metadata": {
        "colab": {
          "base_uri": "https://localhost:8080/"
        },
        "id": "G8EaCLj31SV_",
        "outputId": "fba8689a-a02d-4363-cc2c-8938c82de6a2"
      },
      "source": [
        "model_2_pred = model_2.predict(val_sentences)\n",
        "model_2_pred"
      ],
      "execution_count": null,
      "outputs": [
        {
          "output_type": "execute_result",
          "data": {
            "text/plain": [
              "array([[0.07506433],\n",
              "       [0.91121113],\n",
              "       [0.99994355],\n",
              "       ...,\n",
              "       [0.97416455],\n",
              "       [0.9999695 ],\n",
              "       [0.9999368 ]], dtype=float32)"
            ]
          },
          "metadata": {},
          "execution_count": 50
        }
      ]
    },
    {
      "cell_type": "code",
      "metadata": {
        "colab": {
          "base_uri": "https://localhost:8080/"
        },
        "id": "Z-9v0kQs1gLo",
        "outputId": "4ed9ebb2-8d7f-40f7-cbd6-a9d50a2b0fda"
      },
      "source": [
        "model_2_pred = tf.squeeze(tf.round(model_2_pred))\n",
        "model_2_pred"
      ],
      "execution_count": null,
      "outputs": [
        {
          "output_type": "execute_result",
          "data": {
            "text/plain": [
              "<tf.Tensor: shape=(1523,), dtype=float32, numpy=array([0., 1., 1., ..., 1., 1., 1.], dtype=float32)>"
            ]
          },
          "metadata": {},
          "execution_count": 51
        }
      ]
    },
    {
      "cell_type": "code",
      "metadata": {
        "colab": {
          "base_uri": "https://localhost:8080/"
        },
        "id": "yYONIfs91v-X",
        "outputId": "c56d340a-87a1-4295-c0ee-3efd013a97b2"
      },
      "source": [
        "model_2_results = calculate_result(val_labels, model_2_pred)\n",
        "model_2_results"
      ],
      "execution_count": null,
      "outputs": [
        {
          "output_type": "execute_result",
          "data": {
            "text/plain": [
              "{'accurecy': 0.783322390019698,\n",
              " 'f1-score': 0.7813511279429699,\n",
              " 'precision': 0.7834084730864105,\n",
              " 'recall': 0.783322390019698}"
            ]
          },
          "metadata": {},
          "execution_count": 94
        }
      ]
    },
    {
      "cell_type": "markdown",
      "metadata": {
        "id": "0Ju3bWvp2I8O"
      },
      "source": [
        "##4. GRU Model\n",
        "\n",
        "* Gated Recurrent unit"
      ]
    },
    {
      "cell_type": "code",
      "metadata": {
        "id": "hXduFPzl10fy"
      },
      "source": [
        "inputs = layers.Input(shape=(1, ), dtype='string')\n",
        "x = text_vectorizer(inputs)\n",
        "x = embedding(x)\n",
        "x = layers.GRU(64, return_sequences=True)(x)\n",
        "x = layers.LSTM(64, return_sequences=True)(x)\n",
        "x = layers.GRU(56)(x)\n",
        "x = layers.Dense(64, activation='relu')(x)\n",
        "outputs = layers.Dense(1, activation='sigmoid')(x)\n",
        "\n",
        "model_3 = tf.keras.Model(inputs, outputs, name='model_3_GRU')"
      ],
      "execution_count": null,
      "outputs": []
    },
    {
      "cell_type": "code",
      "metadata": {
        "colab": {
          "base_uri": "https://localhost:8080/"
        },
        "id": "GTF8yl-65Ybk",
        "outputId": "a8ec834e-17e0-4bc9-c169-388ad1a1723e"
      },
      "source": [
        "model_3.summary()"
      ],
      "execution_count": null,
      "outputs": [
        {
          "output_type": "stream",
          "name": "stdout",
          "text": [
            "Model: \"model_3_GRU\"\n",
            "_________________________________________________________________\n",
            "Layer (type)                 Output Shape              Param #   \n",
            "=================================================================\n",
            "input_3 (InputLayer)         [(None, 1)]               0         \n",
            "_________________________________________________________________\n",
            "text_vectorization (TextVect (None, 15)                0         \n",
            "_________________________________________________________________\n",
            "embedding (Embedding)        (None, 15, 128)           1280000   \n",
            "_________________________________________________________________\n",
            "gru (GRU)                    (None, 15, 64)            37248     \n",
            "_________________________________________________________________\n",
            "lstm_2 (LSTM)                (None, 15, 64)            33024     \n",
            "_________________________________________________________________\n",
            "gru_1 (GRU)                  (None, 56)                20496     \n",
            "_________________________________________________________________\n",
            "dense_3 (Dense)              (None, 64)                3648      \n",
            "_________________________________________________________________\n",
            "dense_4 (Dense)              (None, 1)                 65        \n",
            "=================================================================\n",
            "Total params: 1,374,481\n",
            "Trainable params: 1,374,481\n",
            "Non-trainable params: 0\n",
            "_________________________________________________________________\n"
          ]
        }
      ]
    },
    {
      "cell_type": "code",
      "metadata": {
        "id": "gYBWrs9W5gmp"
      },
      "source": [
        "model_3.compile(\n",
        "    loss = 'binary_crossentropy',\n",
        "    optimizer = tf.keras.optimizers.Adam(),\n",
        "    metrics = ['accuracy'],\n",
        ")"
      ],
      "execution_count": null,
      "outputs": []
    },
    {
      "cell_type": "code",
      "metadata": {
        "colab": {
          "base_uri": "https://localhost:8080/"
        },
        "id": "5ntqT8li55C5",
        "outputId": "afa52d08-3afb-46ed-fb8c-d2362bea3758"
      },
      "source": [
        "model_3.fit(\n",
        "    train_sentences,\n",
        "    train_labels,\n",
        "    epochs = 10,\n",
        "    validation_data = (val_sentences, val_labels),\n",
        "    callbacks = [\n",
        "                 create_tensorboard_callback(save_dir,'model_3_GRU1')\n",
        "    ]\n",
        ")"
      ],
      "execution_count": null,
      "outputs": [
        {
          "output_type": "stream",
          "name": "stdout",
          "text": [
            "Saving TensorBoard log files to: model_1_logs/model_3_GRU1/20211010-123648\n",
            "Epoch 1/10\n",
            "191/191 [==============================] - 15s 54ms/step - loss: 0.1264 - accuracy: 0.9586 - val_loss: 0.7107 - val_accuracy: 0.7689\n",
            "Epoch 2/10\n",
            "191/191 [==============================] - 9s 45ms/step - loss: 0.0722 - accuracy: 0.9721 - val_loss: 0.9497 - val_accuracy: 0.7617\n",
            "Epoch 3/10\n",
            "191/191 [==============================] - 9s 47ms/step - loss: 0.0611 - accuracy: 0.9750 - val_loss: 0.9730 - val_accuracy: 0.7761\n",
            "Epoch 4/10\n",
            "191/191 [==============================] - 9s 46ms/step - loss: 0.0555 - accuracy: 0.9744 - val_loss: 1.1584 - val_accuracy: 0.7820\n",
            "Epoch 5/10\n",
            "191/191 [==============================] - 9s 46ms/step - loss: 0.0524 - accuracy: 0.9762 - val_loss: 1.1763 - val_accuracy: 0.7781\n",
            "Epoch 6/10\n",
            "191/191 [==============================] - 9s 47ms/step - loss: 0.0442 - accuracy: 0.9778 - val_loss: 1.1818 - val_accuracy: 0.7630\n",
            "Epoch 7/10\n",
            "191/191 [==============================] - 9s 46ms/step - loss: 0.0415 - accuracy: 0.9785 - val_loss: 1.4969 - val_accuracy: 0.7708\n",
            "Epoch 8/10\n",
            "191/191 [==============================] - 9s 46ms/step - loss: 0.0396 - accuracy: 0.9806 - val_loss: 1.2804 - val_accuracy: 0.7695\n",
            "Epoch 9/10\n",
            "191/191 [==============================] - 9s 46ms/step - loss: 0.0449 - accuracy: 0.9778 - val_loss: 1.8201 - val_accuracy: 0.7636\n",
            "Epoch 10/10\n",
            "191/191 [==============================] - 9s 47ms/step - loss: 0.0451 - accuracy: 0.9808 - val_loss: 1.2497 - val_accuracy: 0.7649\n"
          ]
        },
        {
          "output_type": "execute_result",
          "data": {
            "text/plain": [
              "<keras.callbacks.History at 0x7f35f065ec10>"
            ]
          },
          "metadata": {},
          "execution_count": 56
        }
      ]
    },
    {
      "cell_type": "code",
      "metadata": {
        "colab": {
          "base_uri": "https://localhost:8080/"
        },
        "id": "_UgpcTgX6Jyg",
        "outputId": "847df519-70c8-457e-d684-4e5a3f9ca932"
      },
      "source": [
        "model_3_pred = model_3.predict(val_sentences)\n",
        "\n",
        "model_3_pred = tf.squeeze(tf.round(model_3_pred))\n",
        "model_3_pred"
      ],
      "execution_count": null,
      "outputs": [
        {
          "output_type": "execute_result",
          "data": {
            "text/plain": [
              "<tf.Tensor: shape=(1523,), dtype=float32, numpy=array([0., 1., 1., ..., 1., 1., 1.], dtype=float32)>"
            ]
          },
          "metadata": {},
          "execution_count": 57
        }
      ]
    },
    {
      "cell_type": "code",
      "metadata": {
        "colab": {
          "base_uri": "https://localhost:8080/"
        },
        "id": "1CPaoFJa6ksN",
        "outputId": "5b930eca-69d9-432d-f520-a122db25a743"
      },
      "source": [
        "model_3_results = calculate_result(val_labels, model_3_pred)\n",
        "model_3_results"
      ],
      "execution_count": null,
      "outputs": [
        {
          "output_type": "execute_result",
          "data": {
            "text/plain": [
              "{'accurecy': 0.7649376231122784,\n",
              " 'f1-score': 0.7646837252279525,\n",
              " 'precision': 0.764525640899841,\n",
              " 'recall': 0.7649376231122784}"
            ]
          },
          "metadata": {},
          "execution_count": 96
        }
      ]
    },
    {
      "cell_type": "markdown",
      "metadata": {
        "id": "EEn8sc2S62Q2"
      },
      "source": [
        "##5. GRU Model 2"
      ]
    },
    {
      "cell_type": "code",
      "metadata": {
        "id": "lCS4zte961g2"
      },
      "source": [
        "inputs = layers.Input(shape=(1, ), dtype='string')\n",
        "x = text_vectorizer(inputs)\n",
        "x = embedding(x)\n",
        "x = layers.GRU(64)(x)\n",
        "x = layers.Dense(64, activation='relu')(x)\n",
        "outputs = layers.Dense(1, activation='sigmoid')(x)\n",
        "\n",
        "model_4 = tf.keras.Model(inputs, outputs, name='model_4_GRU')"
      ],
      "execution_count": null,
      "outputs": []
    },
    {
      "cell_type": "code",
      "metadata": {
        "colab": {
          "base_uri": "https://localhost:8080/"
        },
        "id": "PTsfmDSI7JHA",
        "outputId": "eb4f3cdf-e906-40c6-dc34-d48bc36dec4a"
      },
      "source": [
        "model_4.summary()"
      ],
      "execution_count": null,
      "outputs": [
        {
          "output_type": "stream",
          "name": "stdout",
          "text": [
            "Model: \"model_4_GRU\"\n",
            "_________________________________________________________________\n",
            "Layer (type)                 Output Shape              Param #   \n",
            "=================================================================\n",
            "input_4 (InputLayer)         [(None, 1)]               0         \n",
            "_________________________________________________________________\n",
            "text_vectorization (TextVect (None, 15)                0         \n",
            "_________________________________________________________________\n",
            "embedding (Embedding)        (None, 15, 128)           1280000   \n",
            "_________________________________________________________________\n",
            "gru_2 (GRU)                  (None, 64)                37248     \n",
            "_________________________________________________________________\n",
            "dense_5 (Dense)              (None, 64)                4160      \n",
            "_________________________________________________________________\n",
            "dense_6 (Dense)              (None, 1)                 65        \n",
            "=================================================================\n",
            "Total params: 1,321,473\n",
            "Trainable params: 1,321,473\n",
            "Non-trainable params: 0\n",
            "_________________________________________________________________\n"
          ]
        }
      ]
    },
    {
      "cell_type": "code",
      "metadata": {
        "colab": {
          "base_uri": "https://localhost:8080/"
        },
        "id": "qjkL4Pr46qss",
        "outputId": "5cf28901-16cc-4bd6-c84d-c02fd0d513b5"
      },
      "source": [
        "model_4.compile(\n",
        "    loss = 'binary_crossentropy',\n",
        "    optimizer = tf.keras.optimizers.Adam(),\n",
        "    metrics = ['accuracy'],\n",
        ")\n",
        "\n",
        "model_4.fit(\n",
        "    train_sentences,\n",
        "    train_labels,\n",
        "    epochs = 5,\n",
        "    validation_data = (val_sentences, val_labels),\n",
        "    callbacks = [\n",
        "                 create_tensorboard_callback(save_dir,'model_4_GRU2')\n",
        "    ]\n",
        ")"
      ],
      "execution_count": null,
      "outputs": [
        {
          "output_type": "stream",
          "name": "stdout",
          "text": [
            "Saving TensorBoard log files to: model_1_logs/model_4_GRU2/20211010-123824\n",
            "Epoch 1/5\n",
            "191/191 [==============================] - 8s 31ms/step - loss: 0.1382 - accuracy: 0.9432 - val_loss: 1.0064 - val_accuracy: 0.7623\n",
            "Epoch 2/5\n",
            "191/191 [==============================] - 5s 28ms/step - loss: 0.0562 - accuracy: 0.9778 - val_loss: 1.1125 - val_accuracy: 0.7722\n",
            "Epoch 3/5\n",
            "191/191 [==============================] - 5s 28ms/step - loss: 0.0429 - accuracy: 0.9808 - val_loss: 1.3071 - val_accuracy: 0.7728\n",
            "Epoch 4/5\n",
            "191/191 [==============================] - 5s 27ms/step - loss: 0.0342 - accuracy: 0.9823 - val_loss: 1.6632 - val_accuracy: 0.7728\n",
            "Epoch 5/5\n",
            "191/191 [==============================] - 5s 27ms/step - loss: 0.0313 - accuracy: 0.9839 - val_loss: 1.8201 - val_accuracy: 0.7663\n"
          ]
        },
        {
          "output_type": "execute_result",
          "data": {
            "text/plain": [
              "<keras.callbacks.History at 0x7f35eddec810>"
            ]
          },
          "metadata": {},
          "execution_count": 61
        }
      ]
    },
    {
      "cell_type": "code",
      "metadata": {
        "colab": {
          "base_uri": "https://localhost:8080/"
        },
        "id": "vRVWvRPI7Uej",
        "outputId": "b0470a66-130f-44ed-b620-d46c7a8e65f1"
      },
      "source": [
        "model_4_pred = model_4.predict(val_sentences)\n",
        "\n",
        "model_4_pred = tf.squeeze(tf.round(model_4_pred))\n",
        "model_4_pred"
      ],
      "execution_count": null,
      "outputs": [
        {
          "output_type": "execute_result",
          "data": {
            "text/plain": [
              "<tf.Tensor: shape=(1523,), dtype=float32, numpy=array([0., 1., 1., ..., 1., 1., 1.], dtype=float32)>"
            ]
          },
          "metadata": {},
          "execution_count": 62
        }
      ]
    },
    {
      "cell_type": "code",
      "metadata": {
        "colab": {
          "base_uri": "https://localhost:8080/"
        },
        "id": "K5ECX4t-7elv",
        "outputId": "589ab01a-ab3b-4408-9210-dccc33409850"
      },
      "source": [
        "model_4_results = calculate_result(val_labels, model_4_pred)\n",
        "model_4_results"
      ],
      "execution_count": null,
      "outputs": [
        {
          "output_type": "execute_result",
          "data": {
            "text/plain": [
              "{'accurecy': 0.7662508207485227,\n",
              " 'f1-score': 0.7652319185166614,\n",
              " 'precision': 0.7653988161547901,\n",
              " 'recall': 0.7662508207485227}"
            ]
          },
          "metadata": {},
          "execution_count": 97
        }
      ]
    },
    {
      "cell_type": "markdown",
      "metadata": {
        "id": "N65mUfZGBNF0"
      },
      "source": [
        "##6. Bidirectional-LSTM RNN Model"
      ]
    },
    {
      "cell_type": "code",
      "metadata": {
        "id": "vetmgP_j7tAZ"
      },
      "source": [
        "inputs = layers.Input(shape=(1, ), dtype='string')\n",
        "x = text_vectorizer(inputs)\n",
        "x = embedding(x)\n",
        "x = layers.Bidirectional(\n",
        "    layers.LSTM(64, return_sequences=True)\n",
        ")(x)\n",
        "\n",
        "x = layers.Bidirectional(\n",
        "    layers.GRU(64)\n",
        ")(x)\n",
        "\n",
        "outputs = layers.Dense(1, activation='sigmoid')(x)\n",
        "model_5 = tf.keras.Model(inputs, outputs, name='model_5_bidirectional')"
      ],
      "execution_count": null,
      "outputs": []
    },
    {
      "cell_type": "code",
      "metadata": {
        "colab": {
          "base_uri": "https://localhost:8080/"
        },
        "id": "vvkgB1UFMYeC",
        "outputId": "f4d9d512-05d9-4b3b-c263-30cc9fdfa04f"
      },
      "source": [
        "model_5.summary()"
      ],
      "execution_count": null,
      "outputs": [
        {
          "output_type": "stream",
          "name": "stdout",
          "text": [
            "Model: \"model_5_bidirectional\"\n",
            "_________________________________________________________________\n",
            "Layer (type)                 Output Shape              Param #   \n",
            "=================================================================\n",
            "input_5 (InputLayer)         [(None, 1)]               0         \n",
            "_________________________________________________________________\n",
            "text_vectorization (TextVect (None, 15)                0         \n",
            "_________________________________________________________________\n",
            "embedding (Embedding)        (None, 15, 128)           1280000   \n",
            "_________________________________________________________________\n",
            "bidirectional (Bidirectional (None, 15, 128)           98816     \n",
            "_________________________________________________________________\n",
            "bidirectional_1 (Bidirection (None, 128)               74496     \n",
            "_________________________________________________________________\n",
            "dense_7 (Dense)              (None, 1)                 129       \n",
            "=================================================================\n",
            "Total params: 1,453,441\n",
            "Trainable params: 1,453,441\n",
            "Non-trainable params: 0\n",
            "_________________________________________________________________\n"
          ]
        }
      ]
    },
    {
      "cell_type": "code",
      "metadata": {
        "id": "aq4NWSSyMhos"
      },
      "source": [
        "model_5.compile(\n",
        "    loss = 'binary_crossentropy',\n",
        "    optimizer = tf.keras.optimizers.Adam(),\n",
        "    metrics = ['accuracy']\n",
        ")"
      ],
      "execution_count": null,
      "outputs": []
    },
    {
      "cell_type": "code",
      "metadata": {
        "colab": {
          "base_uri": "https://localhost:8080/"
        },
        "id": "M9RPX5y7NHa5",
        "outputId": "c2dc2ad7-8497-4cf2-ad42-8e8406c1a26a"
      },
      "source": [
        "model_5.fit(\n",
        "    train_sentences,\n",
        "    train_labels,\n",
        "    epochs = 10,\n",
        "    validation_data = (val_sentences, val_labels),\n",
        "    callbacks = [\n",
        "                 create_tensorboard_callback(save_dir, 'model_5_bidirectional')\n",
        "    ]\n",
        ")"
      ],
      "execution_count": null,
      "outputs": [
        {
          "output_type": "stream",
          "name": "stdout",
          "text": [
            "Saving TensorBoard log files to: model_1_logs/model_5_bidirectional/20211010-123909\n",
            "Epoch 1/10\n",
            "191/191 [==============================] - 19s 67ms/step - loss: 0.0848 - accuracy: 0.9704 - val_loss: 0.9405 - val_accuracy: 0.7649\n",
            "Epoch 2/10\n",
            "191/191 [==============================] - 11s 58ms/step - loss: 0.0367 - accuracy: 0.9803 - val_loss: 1.5736 - val_accuracy: 0.7590\n",
            "Epoch 3/10\n",
            "191/191 [==============================] - 11s 57ms/step - loss: 0.0347 - accuracy: 0.9829 - val_loss: 1.5397 - val_accuracy: 0.7590\n",
            "Epoch 4/10\n",
            "191/191 [==============================] - 11s 57ms/step - loss: 0.0311 - accuracy: 0.9831 - val_loss: 1.7743 - val_accuracy: 0.7643\n",
            "Epoch 5/10\n",
            "191/191 [==============================] - 11s 57ms/step - loss: 0.0326 - accuracy: 0.9836 - val_loss: 1.4706 - val_accuracy: 0.7623\n",
            "Epoch 6/10\n",
            "191/191 [==============================] - 11s 58ms/step - loss: 0.0334 - accuracy: 0.9834 - val_loss: 1.3520 - val_accuracy: 0.7452\n",
            "Epoch 7/10\n",
            "191/191 [==============================] - 11s 58ms/step - loss: 0.0329 - accuracy: 0.9842 - val_loss: 1.2620 - val_accuracy: 0.7636\n",
            "Epoch 8/10\n",
            "191/191 [==============================] - 11s 57ms/step - loss: 0.0319 - accuracy: 0.9834 - val_loss: 1.4234 - val_accuracy: 0.7577\n",
            "Epoch 9/10\n",
            "191/191 [==============================] - 11s 55ms/step - loss: 0.0299 - accuracy: 0.9844 - val_loss: 1.6816 - val_accuracy: 0.7636\n",
            "Epoch 10/10\n",
            "191/191 [==============================] - 11s 57ms/step - loss: 0.0286 - accuracy: 0.9847 - val_loss: 1.4818 - val_accuracy: 0.7492\n"
          ]
        },
        {
          "output_type": "execute_result",
          "data": {
            "text/plain": [
              "<keras.callbacks.History at 0x7f35eb1f1510>"
            ]
          },
          "metadata": {},
          "execution_count": 67
        }
      ]
    },
    {
      "cell_type": "code",
      "metadata": {
        "colab": {
          "base_uri": "https://localhost:8080/"
        },
        "id": "bPHqUnSgNbNW",
        "outputId": "f39cb988-cd19-4c8a-a723-88893679a782"
      },
      "source": [
        "model_5_pred = model_5.predict(val_sentences)\n",
        "\n",
        "model_5_pred = tf.squeeze(tf.round(model_5_pred))\n",
        "model_5_pred"
      ],
      "execution_count": null,
      "outputs": [
        {
          "output_type": "execute_result",
          "data": {
            "text/plain": [
              "<tf.Tensor: shape=(1523,), dtype=float32, numpy=array([1., 1., 1., ..., 1., 1., 1.], dtype=float32)>"
            ]
          },
          "metadata": {},
          "execution_count": 68
        }
      ]
    },
    {
      "cell_type": "code",
      "metadata": {
        "colab": {
          "base_uri": "https://localhost:8080/"
        },
        "id": "qpLYJKWvNlC9",
        "outputId": "236a1800-7323-41f5-ef50-f95cbfaf819e"
      },
      "source": [
        "model_5_results = calculate_result(val_labels, model_5_pred)\n",
        "model_5_results"
      ],
      "execution_count": null,
      "outputs": [
        {
          "output_type": "execute_result",
          "data": {
            "text/plain": [
              "{'accurecy': 0.7491792514773473,\n",
              " 'f1-score': 0.749742655727938,\n",
              " 'precision': 0.7509677779275278,\n",
              " 'recall': 0.7491792514773473}"
            ]
          },
          "metadata": {},
          "execution_count": 98
        }
      ]
    },
    {
      "cell_type": "markdown",
      "metadata": {
        "id": "-iqduXXDvtMg"
      },
      "source": [
        "###7. Conv1D Model"
      ]
    },
    {
      "cell_type": "code",
      "metadata": {
        "id": "985Re66dOGim"
      },
      "source": [
        "inputs = layers.Input(shape=(1,), dtype=tf.string)\n",
        "x = text_vectorizer(inputs)\n",
        "x = embedding(x)\n",
        "x = layers.Conv1D(\n",
        "    filters = 64,\n",
        "    kernel_size = 5,\n",
        "    padding = 'valid',\n",
        "    activation='relu',\n",
        ")(x)\n",
        "\n",
        "x = layers.GlobalMaxPool1D(name='max_pool_layer')(x)\n",
        "outputs = layers.Dense(1, activation='sigmoid')(x)\n",
        "\n",
        "model_6 = tf.keras.Model(inputs, outputs)"
      ],
      "execution_count": null,
      "outputs": []
    },
    {
      "cell_type": "code",
      "metadata": {
        "colab": {
          "base_uri": "https://localhost:8080/"
        },
        "id": "jl3F8dBTxD96",
        "outputId": "26e3b987-a68b-4eda-ce3b-7cfe8cd60b49"
      },
      "source": [
        "model_6.summary()"
      ],
      "execution_count": null,
      "outputs": [
        {
          "output_type": "stream",
          "name": "stdout",
          "text": [
            "Model: \"model\"\n",
            "_________________________________________________________________\n",
            "Layer (type)                 Output Shape              Param #   \n",
            "=================================================================\n",
            "input_6 (InputLayer)         [(None, 1)]               0         \n",
            "_________________________________________________________________\n",
            "text_vectorization (TextVect (None, 15)                0         \n",
            "_________________________________________________________________\n",
            "embedding (Embedding)        (None, 15, 128)           1280000   \n",
            "_________________________________________________________________\n",
            "conv1d (Conv1D)              (None, 11, 64)            41024     \n",
            "_________________________________________________________________\n",
            "max_pool_layer (GlobalMaxPoo (None, 64)                0         \n",
            "_________________________________________________________________\n",
            "dense_8 (Dense)              (None, 1)                 65        \n",
            "=================================================================\n",
            "Total params: 1,321,089\n",
            "Trainable params: 1,321,089\n",
            "Non-trainable params: 0\n",
            "_________________________________________________________________\n"
          ]
        }
      ]
    },
    {
      "cell_type": "code",
      "metadata": {
        "id": "Fr9ptv9BxOZx"
      },
      "source": [
        "model_6.compile(\n",
        "    loss='binary_crossentropy',\n",
        "    optimizer = tf.keras.optimizers.Adam(),\n",
        "    metrics = ['accuracy'], \n",
        ")"
      ],
      "execution_count": null,
      "outputs": []
    },
    {
      "cell_type": "code",
      "metadata": {
        "colab": {
          "base_uri": "https://localhost:8080/"
        },
        "id": "Fi5amGaxx70W",
        "outputId": "af9417ac-51fd-4145-ac60-5061a30d648c"
      },
      "source": [
        "model_6.fit(\n",
        "    train_sentences,\n",
        "    train_labels,\n",
        "    epochs = 5,\n",
        "    validation_data = (val_sentences, val_labels),\n",
        "    callbacks = [\n",
        "                 create_tensorboard_callback(save_dir, 'model_6_conv1D')\n",
        "    ]\n",
        ")"
      ],
      "execution_count": null,
      "outputs": [
        {
          "output_type": "stream",
          "name": "stdout",
          "text": [
            "Saving TensorBoard log files to: model_1_logs/model_6_conv1D/20211010-124108\n",
            "Epoch 1/5\n",
            "191/191 [==============================] - 5s 21ms/step - loss: 0.1054 - accuracy: 0.9681 - val_loss: 0.9253 - val_accuracy: 0.7617\n",
            "Epoch 2/5\n",
            "191/191 [==============================] - 4s 19ms/step - loss: 0.0589 - accuracy: 0.9791 - val_loss: 1.0708 - val_accuracy: 0.7643\n",
            "Epoch 3/5\n",
            "191/191 [==============================] - 4s 19ms/step - loss: 0.0505 - accuracy: 0.9803 - val_loss: 1.1215 - val_accuracy: 0.7630\n",
            "Epoch 4/5\n",
            "191/191 [==============================] - 4s 19ms/step - loss: 0.0437 - accuracy: 0.9810 - val_loss: 1.2103 - val_accuracy: 0.7551\n",
            "Epoch 5/5\n",
            "191/191 [==============================] - 4s 19ms/step - loss: 0.0418 - accuracy: 0.9828 - val_loss: 1.2054 - val_accuracy: 0.7538\n"
          ]
        },
        {
          "output_type": "execute_result",
          "data": {
            "text/plain": [
              "<keras.callbacks.History at 0x7f35e90aad50>"
            ]
          },
          "metadata": {},
          "execution_count": 73
        }
      ]
    },
    {
      "cell_type": "code",
      "metadata": {
        "colab": {
          "base_uri": "https://localhost:8080/"
        },
        "id": "ylHN9chzyNFm",
        "outputId": "3d754051-04ea-408d-ab55-d056d2a2eb59"
      },
      "source": [
        "model_6_pred = model_6.predict(val_sentences)\n",
        "\n",
        "model_6_pred = tf.squeeze(tf.round(model_6_pred))\n",
        "model_6_pred"
      ],
      "execution_count": null,
      "outputs": [
        {
          "output_type": "execute_result",
          "data": {
            "text/plain": [
              "<tf.Tensor: shape=(1523,), dtype=float32, numpy=array([1., 1., 1., ..., 1., 1., 1.], dtype=float32)>"
            ]
          },
          "metadata": {},
          "execution_count": 74
        }
      ]
    },
    {
      "cell_type": "code",
      "metadata": {
        "colab": {
          "base_uri": "https://localhost:8080/"
        },
        "id": "vfzkgHZuyvmO",
        "outputId": "ddb92316-0bf3-4526-862c-b0f010df83da"
      },
      "source": [
        "model_6_results = calculate_result(val_labels, model_6_pred)\n",
        "model_6_results"
      ],
      "execution_count": null,
      "outputs": [
        {
          "output_type": "execute_result",
          "data": {
            "text/plain": [
              "{'accurecy': 0.7537754432042022,\n",
              " 'f1-score': 0.7541310257391018,\n",
              " 'precision': 0.7547217550553371,\n",
              " 'recall': 0.7537754432042022}"
            ]
          },
          "metadata": {},
          "execution_count": 99
        }
      ]
    },
    {
      "cell_type": "code",
      "metadata": {
        "colab": {
          "base_uri": "https://localhost:8080/"
        },
        "id": "jy1Gy5DJyyyi",
        "outputId": "e6b873c2-8a04-4677-b7b2-2ae0788e408e"
      },
      "source": [
        "baseline_results"
      ],
      "execution_count": null,
      "outputs": [
        {
          "output_type": "execute_result",
          "data": {
            "text/plain": [
              "{'accurecy': 0.799080761654629,\n",
              " 'f1-score': 0.7920155324845473,\n",
              " 'precision': 0.8146358812834972,\n",
              " 'recall': 0.799080761654629}"
            ]
          },
          "metadata": {},
          "execution_count": 76
        }
      ]
    },
    {
      "cell_type": "markdown",
      "metadata": {
        "id": "30locmxKzPXJ"
      },
      "source": [
        "##8. Pretrained Model"
      ]
    },
    {
      "cell_type": "code",
      "metadata": {
        "id": "3j7QUzqGzEyT"
      },
      "source": [
        "import tensorflow_hub as hub"
      ],
      "execution_count": null,
      "outputs": []
    },
    {
      "cell_type": "code",
      "metadata": {
        "id": "x0_HA79w6M-J"
      },
      "source": [
        "embed = hub.load('https://tfhub.dev/google/universal-sentence-encoder/4')"
      ],
      "execution_count": null,
      "outputs": []
    },
    {
      "cell_type": "code",
      "metadata": {
        "colab": {
          "base_uri": "https://localhost:8080/",
          "height": 53
        },
        "id": "2Nr67vzF7D2j",
        "outputId": "60bfc5c9-5c14-407c-b007-7403b464f1f4"
      },
      "source": [
        "random_txt"
      ],
      "execution_count": null,
      "outputs": [
        {
          "output_type": "execute_result",
          "data": {
            "application/vnd.google.colaboratory.intrinsic+json": {
              "type": "string"
            },
            "text/plain": [
              "\"Tomorrow's evening commute receives a RED LIGHT. A rainstorm impacting the region will push it's way in late evening. http://t.co/DRvm8ISOtE\""
            ]
          },
          "metadata": {},
          "execution_count": 79
        }
      ]
    },
    {
      "cell_type": "code",
      "metadata": {
        "colab": {
          "base_uri": "https://localhost:8080/"
        },
        "id": "P53RKP6y6XvB",
        "outputId": "ec37b22f-50e2-4cdb-ee4f-b7cf56c6b419"
      },
      "source": [
        "sample = embed([random_txt])\n",
        "sample.shape"
      ],
      "execution_count": null,
      "outputs": [
        {
          "output_type": "execute_result",
          "data": {
            "text/plain": [
              "TensorShape([1, 512])"
            ]
          },
          "metadata": {},
          "execution_count": 80
        }
      ]
    },
    {
      "cell_type": "code",
      "metadata": {
        "id": "Grswn7GO6wXz"
      },
      "source": [
        "sentence_encoder_layer = hub.KerasLayer(\n",
        "    'https://tfhub.dev/google/universal-sentence-encoder/4',\n",
        "    input_shape=[],\n",
        "    dtype = tf.string,\n",
        "    trainable =False,\n",
        "    name = \"USE\"\n",
        ")"
      ],
      "execution_count": null,
      "outputs": []
    },
    {
      "cell_type": "code",
      "metadata": {
        "id": "7qhf-hcf7uM1"
      },
      "source": [
        "model_7 = tf.keras.Sequential([\n",
        "    sentence_encoder_layer,\n",
        "    layers.Dense(1, activation='sigmoid')\n",
        "], name = 'modes_7_USE')\n",
        "\n",
        "model_7.compile(\n",
        "    loss = 'binary_crossentropy',\n",
        "    optimizer = tf.keras.optimizers.Adam(),\n",
        "    metrics = ['accuracy'],\n",
        ")"
      ],
      "execution_count": null,
      "outputs": []
    },
    {
      "cell_type": "code",
      "metadata": {
        "colab": {
          "base_uri": "https://localhost:8080/"
        },
        "id": "8_AkNelV8RNy",
        "outputId": "af4a1db2-ebf2-4026-d82d-fba49f4bfd93"
      },
      "source": [
        "model_7.summary()"
      ],
      "execution_count": null,
      "outputs": [
        {
          "output_type": "stream",
          "name": "stdout",
          "text": [
            "Model: \"modes_7_USE\"\n",
            "_________________________________________________________________\n",
            "Layer (type)                 Output Shape              Param #   \n",
            "=================================================================\n",
            "USE (KerasLayer)             (None, 512)               256797824 \n",
            "_________________________________________________________________\n",
            "dense_9 (Dense)              (None, 1)                 513       \n",
            "=================================================================\n",
            "Total params: 256,798,337\n",
            "Trainable params: 513\n",
            "Non-trainable params: 256,797,824\n",
            "_________________________________________________________________\n"
          ]
        }
      ]
    },
    {
      "cell_type": "code",
      "metadata": {
        "colab": {
          "base_uri": "https://localhost:8080/"
        },
        "id": "MnD9s9NS8WfM",
        "outputId": "cebf88f0-320e-4d5e-c7ad-08650b7fbe06"
      },
      "source": [
        "model_7.fit(\n",
        "    train_sentences,\n",
        "    train_labels,\n",
        "    epochs = 10,\n",
        "    validation_data = (val_sentences, val_labels),\n",
        "    callbacks = [\n",
        "                create_tensorboard_callback(save_dir, 'model_7_USE')\n",
        "    ]\n",
        ")"
      ],
      "execution_count": null,
      "outputs": [
        {
          "output_type": "stream",
          "name": "stdout",
          "text": [
            "Saving TensorBoard log files to: model_1_logs/model_7_USE/20211010-124149\n",
            "Epoch 1/10\n",
            "191/191 [==============================] - 8s 27ms/step - loss: 0.6499 - accuracy: 0.7342 - val_loss: 0.6155 - val_accuracy: 0.7695\n",
            "Epoch 2/10\n",
            "191/191 [==============================] - 3s 13ms/step - loss: 0.5886 - accuracy: 0.7877 - val_loss: 0.5676 - val_accuracy: 0.7807\n",
            "Epoch 3/10\n",
            "191/191 [==============================] - 2s 13ms/step - loss: 0.5470 - accuracy: 0.7949 - val_loss: 0.5359 - val_accuracy: 0.7800\n",
            "Epoch 4/10\n",
            "191/191 [==============================] - 2s 13ms/step - loss: 0.5183 - accuracy: 0.7993 - val_loss: 0.5140 - val_accuracy: 0.7800\n",
            "Epoch 5/10\n",
            "191/191 [==============================] - 2s 13ms/step - loss: 0.4975 - accuracy: 0.8011 - val_loss: 0.4985 - val_accuracy: 0.7820\n",
            "Epoch 6/10\n",
            "191/191 [==============================] - 3s 13ms/step - loss: 0.4819 - accuracy: 0.8031 - val_loss: 0.4872 - val_accuracy: 0.7846\n",
            "Epoch 7/10\n",
            "191/191 [==============================] - 3s 13ms/step - loss: 0.4699 - accuracy: 0.8030 - val_loss: 0.4787 - val_accuracy: 0.7853\n",
            "Epoch 8/10\n",
            "191/191 [==============================] - 3s 13ms/step - loss: 0.4603 - accuracy: 0.8046 - val_loss: 0.4723 - val_accuracy: 0.7866\n",
            "Epoch 9/10\n",
            "191/191 [==============================] - 2s 12ms/step - loss: 0.4525 - accuracy: 0.8054 - val_loss: 0.4673 - val_accuracy: 0.7873\n",
            "Epoch 10/10\n",
            "191/191 [==============================] - 2s 12ms/step - loss: 0.4460 - accuracy: 0.8095 - val_loss: 0.4633 - val_accuracy: 0.7886\n"
          ]
        },
        {
          "output_type": "execute_result",
          "data": {
            "text/plain": [
              "<keras.callbacks.History at 0x7f35e3eb7490>"
            ]
          },
          "metadata": {},
          "execution_count": 84
        }
      ]
    },
    {
      "cell_type": "code",
      "metadata": {
        "colab": {
          "base_uri": "https://localhost:8080/"
        },
        "id": "CSl4nxF_8rbe",
        "outputId": "9cd235ac-8e19-477c-81a6-c6e3c48b3465"
      },
      "source": [
        "model_7_pred = model_7.predict(val_sentences)\n",
        "\n",
        "model_7_pred = tf.squeeze(tf.round(model_7_pred))\n",
        "\n",
        "model_7_results = calculate_result(val_labels, model_7_pred)\n",
        "model_7_results"
      ],
      "execution_count": null,
      "outputs": [
        {
          "output_type": "execute_result",
          "data": {
            "text/plain": [
              "{'accurecy': 0.788575180564675,\n",
              " 'f1-score': 0.787547777697963,\n",
              " 'precision': 0.7879892196024489,\n",
              " 'recall': 0.788575180564675}"
            ]
          },
          "metadata": {},
          "execution_count": 100
        }
      ]
    },
    {
      "cell_type": "code",
      "metadata": {
        "colab": {
          "base_uri": "https://localhost:8080/"
        },
        "id": "J4CqECP19Cah",
        "outputId": "a2b7c6e9-86fd-419c-969d-24aad1c9f988"
      },
      "source": [
        "baseline_results"
      ],
      "execution_count": null,
      "outputs": [
        {
          "output_type": "execute_result",
          "data": {
            "text/plain": [
              "{'accurecy': 0.799080761654629,\n",
              " 'f1-score': 0.7920155324845473,\n",
              " 'precision': 0.8146358812834972,\n",
              " 'recall': 0.799080761654629}"
            ]
          },
          "metadata": {},
          "execution_count": 86
        }
      ]
    },
    {
      "cell_type": "markdown",
      "metadata": {
        "id": "_5VSRH34T8ze"
      },
      "source": [
        "##Model 8"
      ]
    },
    {
      "cell_type": "code",
      "metadata": {
        "colab": {
          "base_uri": "https://localhost:8080/"
        },
        "id": "INxP3kTyT5gi",
        "outputId": "81f5bbbc-1d7f-42f4-857b-985f6afe0735"
      },
      "source": [
        "model_8 = tf.keras.Sequential([\n",
        "    sentence_encoder_layer,\n",
        "    layers.Dense(64, activation='relu'),\n",
        "    layers.Dense(1, activation='sigmoid')\n",
        "], name = 'modes_7_USE')\n",
        "\n",
        "model_8.compile(\n",
        "    loss = 'binary_crossentropy',\n",
        "    optimizer = tf.keras.optimizers.Adam(),\n",
        "    metrics = ['accuracy'],\n",
        ")\n",
        "\n",
        "history_model_8 = model_8.fit(\n",
        "    train_sentences,\n",
        "    train_labels,\n",
        "    epochs = 10,\n",
        "    validation_data = (val_sentences, val_labels),\n",
        "    callbacks = [\n",
        "                create_tensorboard_callback(save_dir, 'model_8_USE')\n",
        "    ]\n",
        ")"
      ],
      "execution_count": null,
      "outputs": [
        {
          "output_type": "stream",
          "name": "stdout",
          "text": [
            "Saving TensorBoard log files to: model_1_logs/model_8_USE/20211010-124220\n",
            "Epoch 1/10\n",
            "191/191 [==============================] - 5s 19ms/step - loss: 0.5096 - accuracy: 0.7841 - val_loss: 0.4495 - val_accuracy: 0.7938\n",
            "Epoch 2/10\n",
            "191/191 [==============================] - 3s 13ms/step - loss: 0.4131 - accuracy: 0.8148 - val_loss: 0.4421 - val_accuracy: 0.7965\n",
            "Epoch 3/10\n",
            "191/191 [==============================] - 3s 13ms/step - loss: 0.3981 - accuracy: 0.8228 - val_loss: 0.4413 - val_accuracy: 0.7991\n",
            "Epoch 4/10\n",
            "191/191 [==============================] - 2s 12ms/step - loss: 0.3895 - accuracy: 0.8282 - val_loss: 0.4395 - val_accuracy: 0.8043\n",
            "Epoch 5/10\n",
            "191/191 [==============================] - 3s 13ms/step - loss: 0.3836 - accuracy: 0.8278 - val_loss: 0.4374 - val_accuracy: 0.8089\n",
            "Epoch 6/10\n",
            "191/191 [==============================] - 2s 12ms/step - loss: 0.3774 - accuracy: 0.8307 - val_loss: 0.4363 - val_accuracy: 0.8116\n",
            "Epoch 7/10\n",
            "191/191 [==============================] - 3s 13ms/step - loss: 0.3717 - accuracy: 0.8337 - val_loss: 0.4373 - val_accuracy: 0.8148\n",
            "Epoch 8/10\n",
            "191/191 [==============================] - 3s 13ms/step - loss: 0.3663 - accuracy: 0.8363 - val_loss: 0.4364 - val_accuracy: 0.8188\n",
            "Epoch 9/10\n",
            "191/191 [==============================] - 3s 14ms/step - loss: 0.3612 - accuracy: 0.8388 - val_loss: 0.4366 - val_accuracy: 0.8129\n",
            "Epoch 10/10\n",
            "191/191 [==============================] - 2s 12ms/step - loss: 0.3564 - accuracy: 0.8391 - val_loss: 0.4368 - val_accuracy: 0.8142\n"
          ]
        }
      ]
    },
    {
      "cell_type": "code",
      "metadata": {
        "colab": {
          "base_uri": "https://localhost:8080/"
        },
        "id": "puDYJ-OJURpd",
        "outputId": "bbac8a31-72a1-4026-f5dd-33964182f529"
      },
      "source": [
        "model_8_pred = model_8.predict(val_sentences)\n",
        "\n",
        "model_8_pred = tf.squeeze(tf.round(model_8_pred))\n",
        "\n",
        "model_8_results = calculate_result(val_labels, model_8_pred)\n",
        "model_8_results"
      ],
      "execution_count": null,
      "outputs": [
        {
          "output_type": "execute_result",
          "data": {
            "text/plain": [
              "{'accurecy': 0.7997373604727511,\n",
              " 'f1-score': 0.7986346719749209,\n",
              " 'precision': 0.7993683117170154,\n",
              " 'recall': 0.7997373604727511}"
            ]
          },
          "metadata": {},
          "execution_count": 101
        }
      ]
    },
    {
      "cell_type": "markdown",
      "metadata": {
        "id": "Iy6WEZUMRhag"
      },
      "source": [
        "##Training Model on 10% dataset"
      ]
    },
    {
      "cell_type": "code",
      "metadata": {
        "id": "LqbJHe-v_u7x"
      },
      "source": [
        "\n",
        "# One kind of correct way (there are more) to make data subset\n",
        "# (split the already split train_sentences/train_labels)\n",
        "train_sentences_90_percent, train_sentences_10_percent, train_labels_90_percent, train_labels_10_percent = train_test_split(np.array(train_sentences),\n",
        "                                                                                                                            train_labels,\n",
        "                                                                                                                            test_size=0.1,\n",
        "                                                                                                                            random_state=42)"
      ],
      "execution_count": null,
      "outputs": []
    },
    {
      "cell_type": "code",
      "metadata": {
        "colab": {
          "base_uri": "https://localhost:8080/"
        },
        "id": "xzTlHuAhSzHR",
        "outputId": "138aec70-1c63-4665-cd3e-ca2641b22cb6"
      },
      "source": [
        "model_9 = tf.keras.Sequential([\n",
        "    sentence_encoder_layer,\n",
        "    layers.Dense(64, activation='relu'),\n",
        "    layers.Dense(1, activation='sigmoid')\n",
        "], name = 'modes_9')\n",
        "\n",
        "model_9.compile(\n",
        "    loss = 'binary_crossentropy',\n",
        "    optimizer = tf.keras.optimizers.Adam(),\n",
        "    metrics = ['accuracy'],\n",
        ")\n",
        "\n",
        "history_model_8 = model_9.fit(\n",
        "    train_sentences_10_percent,\n",
        "    train_labels_10_percent,\n",
        "    epochs = 10,\n",
        "    validation_data = (val_sentences, val_labels),\n",
        "    callbacks = [\n",
        "                create_tensorboard_callback(save_dir, 'model_8_USE')\n",
        "    ]\n",
        ")"
      ],
      "execution_count": null,
      "outputs": [
        {
          "output_type": "stream",
          "name": "stdout",
          "text": [
            "Saving TensorBoard log files to: model_1_logs/model_8_USE/20211010-125843\n",
            "Epoch 1/10\n",
            "20/20 [==============================] - 3s 94ms/step - loss: 0.6788 - accuracy: 0.6585 - val_loss: 0.6560 - val_accuracy: 0.7505\n",
            "Epoch 2/10\n",
            "20/20 [==============================] - 1s 44ms/step - loss: 0.6307 - accuracy: 0.7882 - val_loss: 0.6152 - val_accuracy: 0.7603\n",
            "Epoch 3/10\n",
            "20/20 [==============================] - 1s 34ms/step - loss: 0.5828 - accuracy: 0.7865 - val_loss: 0.5768 - val_accuracy: 0.7551\n",
            "Epoch 4/10\n",
            "20/20 [==============================] - 1s 44ms/step - loss: 0.5384 - accuracy: 0.7898 - val_loss: 0.5488 - val_accuracy: 0.7492\n",
            "Epoch 5/10\n",
            "20/20 [==============================] - 1s 44ms/step - loss: 0.4948 - accuracy: 0.7964 - val_loss: 0.5184 - val_accuracy: 0.7636\n",
            "Epoch 6/10\n",
            "20/20 [==============================] - 1s 44ms/step - loss: 0.4623 - accuracy: 0.8079 - val_loss: 0.5065 - val_accuracy: 0.7623\n",
            "Epoch 7/10\n",
            "20/20 [==============================] - 1s 44ms/step - loss: 0.4374 - accuracy: 0.8144 - val_loss: 0.4965 - val_accuracy: 0.7669\n",
            "Epoch 8/10\n",
            "20/20 [==============================] - 1s 44ms/step - loss: 0.4150 - accuracy: 0.8243 - val_loss: 0.4895 - val_accuracy: 0.7676\n",
            "Epoch 9/10\n",
            "20/20 [==============================] - 1s 44ms/step - loss: 0.3965 - accuracy: 0.8276 - val_loss: 0.4881 - val_accuracy: 0.7695\n",
            "Epoch 10/10\n",
            "20/20 [==============================] - 1s 36ms/step - loss: 0.3787 - accuracy: 0.8358 - val_loss: 0.4868 - val_accuracy: 0.7702\n"
          ]
        }
      ]
    },
    {
      "cell_type": "code",
      "metadata": {
        "colab": {
          "base_uri": "https://localhost:8080/"
        },
        "id": "di8n02uKUkVm",
        "outputId": "5b60d3a4-e12d-4b51-9021-05fec47a4bfd"
      },
      "source": [
        "model_9_pred = model_9.predict(val_sentences)\n",
        "\n",
        "model_9_pred = tf.squeeze(tf.round(model_9_pred))\n",
        "\n",
        "model_9_results = calculate_result(val_labels, model_9_pred)\n",
        "model_9_results"
      ],
      "execution_count": null,
      "outputs": [
        {
          "output_type": "execute_result",
          "data": {
            "text/plain": [
              "{'accurecy': 0.7701904136572554,\n",
              " 'f1-score': 0.7703743787422964,\n",
              " 'precision': 0.7706250490384338,\n",
              " 'recall': 0.7701904136572554}"
            ]
          },
          "metadata": {},
          "execution_count": 106
        }
      ]
    },
    {
      "cell_type": "markdown",
      "metadata": {
        "id": "odCrQVKAP_ni"
      },
      "source": [
        "#Comparing Models Results"
      ]
    },
    {
      "cell_type": "code",
      "metadata": {
        "id": "WIdu8BPXP-kS"
      },
      "source": [
        "all_model_results = pd.DataFrame({\n",
        "    '0_baseline': baseline_results,\n",
        "    '1_simple_dense': model_1_results,\n",
        "    '2_LSTM': model_2_results,\n",
        "    '3_GRU_1': model_3_results,\n",
        "    '4_GRU_2': model_4_results,\n",
        "    '5_bidirectional': model_5_results,\n",
        "    '6_conv1D': model_6_results,\n",
        "    'tf_hub_encoder_1': model_7_results,\n",
        "    'tf_hub_encoder_2': model_8_results,\n",
        "    '7_hub_encoder_10_percent':model_9_results\n",
        "})"
      ],
      "execution_count": null,
      "outputs": []
    },
    {
      "cell_type": "code",
      "metadata": {
        "id": "dSAD8hrwUrG8",
        "colab": {
          "base_uri": "https://localhost:8080/",
          "height": 358
        },
        "outputId": "c6d1e99f-027a-426e-c2c9-dfd126670937"
      },
      "source": [
        "all_model_results = all_model_results.transpose()\n",
        "all_model_results"
      ],
      "execution_count": null,
      "outputs": [
        {
          "output_type": "execute_result",
          "data": {
            "text/html": [
              "<div>\n",
              "<style scoped>\n",
              "    .dataframe tbody tr th:only-of-type {\n",
              "        vertical-align: middle;\n",
              "    }\n",
              "\n",
              "    .dataframe tbody tr th {\n",
              "        vertical-align: top;\n",
              "    }\n",
              "\n",
              "    .dataframe thead th {\n",
              "        text-align: right;\n",
              "    }\n",
              "</style>\n",
              "<table border=\"1\" class=\"dataframe\">\n",
              "  <thead>\n",
              "    <tr style=\"text-align: right;\">\n",
              "      <th></th>\n",
              "      <th>accurecy</th>\n",
              "      <th>precision</th>\n",
              "      <th>recall</th>\n",
              "      <th>f1-score</th>\n",
              "    </tr>\n",
              "  </thead>\n",
              "  <tbody>\n",
              "    <tr>\n",
              "      <th>0_baseline</th>\n",
              "      <td>0.799081</td>\n",
              "      <td>0.814636</td>\n",
              "      <td>0.799081</td>\n",
              "      <td>0.792016</td>\n",
              "    </tr>\n",
              "    <tr>\n",
              "      <th>1_simple_dense</th>\n",
              "      <td>0.789888</td>\n",
              "      <td>0.791642</td>\n",
              "      <td>0.789888</td>\n",
              "      <td>0.787056</td>\n",
              "    </tr>\n",
              "    <tr>\n",
              "      <th>2_LSTM</th>\n",
              "      <td>0.783322</td>\n",
              "      <td>0.783408</td>\n",
              "      <td>0.783322</td>\n",
              "      <td>0.781351</td>\n",
              "    </tr>\n",
              "    <tr>\n",
              "      <th>3_GRU_1</th>\n",
              "      <td>0.764938</td>\n",
              "      <td>0.764526</td>\n",
              "      <td>0.764938</td>\n",
              "      <td>0.764684</td>\n",
              "    </tr>\n",
              "    <tr>\n",
              "      <th>4_GRU_2</th>\n",
              "      <td>0.766251</td>\n",
              "      <td>0.765399</td>\n",
              "      <td>0.766251</td>\n",
              "      <td>0.765232</td>\n",
              "    </tr>\n",
              "    <tr>\n",
              "      <th>5_bidirectional</th>\n",
              "      <td>0.749179</td>\n",
              "      <td>0.750968</td>\n",
              "      <td>0.749179</td>\n",
              "      <td>0.749743</td>\n",
              "    </tr>\n",
              "    <tr>\n",
              "      <th>6_conv1D</th>\n",
              "      <td>0.753775</td>\n",
              "      <td>0.754722</td>\n",
              "      <td>0.753775</td>\n",
              "      <td>0.754131</td>\n",
              "    </tr>\n",
              "    <tr>\n",
              "      <th>tf_hub_encoder_1</th>\n",
              "      <td>0.788575</td>\n",
              "      <td>0.787989</td>\n",
              "      <td>0.788575</td>\n",
              "      <td>0.787548</td>\n",
              "    </tr>\n",
              "    <tr>\n",
              "      <th>tf_hub_encoder_2</th>\n",
              "      <td>0.799737</td>\n",
              "      <td>0.799368</td>\n",
              "      <td>0.799737</td>\n",
              "      <td>0.798635</td>\n",
              "    </tr>\n",
              "    <tr>\n",
              "      <th>7_hub_encoder_10_percent</th>\n",
              "      <td>0.770190</td>\n",
              "      <td>0.770625</td>\n",
              "      <td>0.770190</td>\n",
              "      <td>0.770374</td>\n",
              "    </tr>\n",
              "  </tbody>\n",
              "</table>\n",
              "</div>"
            ],
            "text/plain": [
              "                          accurecy  precision    recall  f1-score\n",
              "0_baseline                0.799081   0.814636  0.799081  0.792016\n",
              "1_simple_dense            0.789888   0.791642  0.789888  0.787056\n",
              "2_LSTM                    0.783322   0.783408  0.783322  0.781351\n",
              "3_GRU_1                   0.764938   0.764526  0.764938  0.764684\n",
              "4_GRU_2                   0.766251   0.765399  0.766251  0.765232\n",
              "5_bidirectional           0.749179   0.750968  0.749179  0.749743\n",
              "6_conv1D                  0.753775   0.754722  0.753775  0.754131\n",
              "tf_hub_encoder_1          0.788575   0.787989  0.788575  0.787548\n",
              "tf_hub_encoder_2          0.799737   0.799368  0.799737  0.798635\n",
              "7_hub_encoder_10_percent  0.770190   0.770625  0.770190  0.770374"
            ]
          },
          "metadata": {},
          "execution_count": 109
        }
      ]
    },
    {
      "cell_type": "markdown",
      "metadata": {
        "id": "dIJHiwQeSyGw"
      },
      "source": [
        "* **Plotting all the results**"
      ]
    },
    {
      "cell_type": "code",
      "metadata": {
        "colab": {
          "base_uri": "https://localhost:8080/",
          "height": 529
        },
        "id": "VOQsrptLRa-j",
        "outputId": "add07590-cbf0-4b87-a10a-7710e156f61e"
      },
      "source": [
        "all_model_results.plot(\n",
        "    kind='bar',\n",
        "    figsize = (10,7),\n",
        ").legend(bbox_to_anchor=(1.0,1.0));"
      ],
      "execution_count": null,
      "outputs": [
        {
          "output_type": "display_data",
          "data": {
            "image/png": "[encoded data removed]",
            "text/plain": [
              "<Figure size 720x504 with 1 Axes>"
            ]
          },
          "metadata": {
            "needs_background": "light"
          }
        }
      ]
    },
    {
      "cell_type": "markdown",
      "metadata": {
        "id": "7giOBQCrTzfZ"
      },
      "source": [
        "* **Sorting model valus by F1 score**"
      ]
    },
    {
      "cell_type": "code",
      "metadata": {
        "colab": {
          "base_uri": "https://localhost:8080/",
          "height": 572
        },
        "id": "JzKAaeV-THxn",
        "outputId": "1a5684d2-15ec-47cb-c7f3-da5bf18f5c18"
      },
      "source": [
        "all_model_results.sort_values('f1-score', ascending=False)['f1-score'].plot(kind='bar', figsize=(10, 7))"
      ],
      "execution_count": null,
      "outputs": [
        {
          "output_type": "execute_result",
          "data": {
            "text/plain": [
              "<matplotlib.axes._subplots.AxesSubplot at 0x7f35e3ee3b90>"
            ]
          },
          "metadata": {},
          "execution_count": 113
        },
        {
          "output_type": "display_data",
          "data": {
            "image/png": "[encoded data removed]",
            "text/plain": [
              "<Figure size 720x504 with 1 Axes>"
            ]
          },
          "metadata": {
            "needs_background": "light"
          }
        }
      ]
    },
    {
      "cell_type": "markdown",
      "metadata": {
        "id": "u5Skue0RUoQT"
      },
      "source": [
        "* **Uploading model trainning model logs on tensorflow.dev**"
      ]
    },
    {
      "cell_type": "code",
      "metadata": {
        "id": "LWxHKoA4USuC"
      },
      "source": [
        "!tensorboard dev upload --logdir ./model_1_logs/ \\\n",
        "  --name 'NLP Model 1: Disaster tweet classification' \\\n",
        "  --description 'comparing different models' \\\n",
        "  --one_shot"
      ],
      "execution_count": null,
      "outputs": []
    },
    {
      "cell_type": "markdown",
      "metadata": {
        "id": "g0cuvoijWTjC"
      },
      "source": [
        "* https://tensorboard.dev/experiment/aFg8VzKpRj6Ry1M41djLPQ/#scalars"
      ]
    },
    {
      "cell_type": "markdown",
      "metadata": {
        "id": "TZuD4wXYYj-_"
      },
      "source": [
        "#Saving Model"
      ]
    },
    {
      "cell_type": "code",
      "metadata": {
        "colab": {
          "base_uri": "https://localhost:8080/"
        },
        "id": "gyNxz--FVZ8Z",
        "outputId": "cb725276-d4e8-455a-cf6d-6c043ad121b3"
      },
      "source": [
        "model_7_results"
      ],
      "execution_count": null,
      "outputs": [
        {
          "output_type": "execute_result",
          "data": {
            "text/plain": [
              "{'accurecy': 0.788575180564675,\n",
              " 'f1-score': 0.787547777697963,\n",
              " 'precision': 0.7879892196024489,\n",
              " 'recall': 0.788575180564675}"
            ]
          },
          "metadata": {},
          "execution_count": 117
        }
      ]
    },
    {
      "cell_type": "code",
      "metadata": {
        "colab": {
          "base_uri": "https://localhost:8080/"
        },
        "id": "Vh4UWKKiYoWt",
        "outputId": "31abc8d3-9dfc-4120-ba96-72eb2e5bbbcb"
      },
      "source": [
        "model_8_results"
      ],
      "execution_count": null,
      "outputs": [
        {
          "output_type": "execute_result",
          "data": {
            "text/plain": [
              "{'accurecy': 0.7997373604727511,\n",
              " 'f1-score': 0.7986346719749209,\n",
              " 'precision': 0.7993683117170154,\n",
              " 'recall': 0.7997373604727511}"
            ]
          },
          "metadata": {},
          "execution_count": 118
        }
      ]
    },
    {
      "cell_type": "markdown",
      "metadata": {
        "id": "oBGnQ847Y18C"
      },
      "source": [
        "* Saving Model in **HDF5 (.h5)** formate"
      ]
    },
    {
      "cell_type": "code",
      "metadata": {
        "id": "5-U2nFPVYp5-"
      },
      "source": [
        "model_8.save('model_8.h5')"
      ],
      "execution_count": null,
      "outputs": []
    },
    {
      "cell_type": "code",
      "metadata": {
        "id": "qccPAuEIYyge"
      },
      "source": [
        "loaded_model = tf.keras.models.load_model(\n",
        "    'model_8.h5',\n",
        "    custom_objects = {'KerasLayer':hub.KerasLayer}\n",
        ")"
      ],
      "execution_count": null,
      "outputs": []
    },
    {
      "cell_type": "code",
      "metadata": {
        "colab": {
          "base_uri": "https://localhost:8080/"
        },
        "id": "vEunNe0WZa8u",
        "outputId": "11097747-b779-440c-cd39-f8973f841d24"
      },
      "source": [
        "loaded_model.evaluate(val_sentences, val_labels)"
      ],
      "execution_count": null,
      "outputs": [
        {
          "output_type": "stream",
          "name": "stdout",
          "text": [
            "48/48 [==============================] - 1s 12ms/step - loss: 0.4838 - accuracy: 0.7997\n"
          ]
        },
        {
          "output_type": "execute_result",
          "data": {
            "text/plain": [
              "[0.48383137583732605, 0.7997373342514038]"
            ]
          },
          "metadata": {},
          "execution_count": 121
        }
      ]
    },
    {
      "cell_type": "code",
      "metadata": {
        "colab": {
          "base_uri": "https://localhost:8080/"
        },
        "id": "GYaTkI_pZpJL",
        "outputId": "0ae39a1f-981b-4bfd-e6dc-13e54f8168b7"
      },
      "source": [
        "loaded_model.summary()"
      ],
      "execution_count": null,
      "outputs": [
        {
          "output_type": "stream",
          "name": "stdout",
          "text": [
            "Model: \"modes_7_USE\"\n",
            "_________________________________________________________________\n",
            "Layer (type)                 Output Shape              Param #   \n",
            "=================================================================\n",
            "USE (KerasLayer)             (None, 512)               256797824 \n",
            "_________________________________________________________________\n",
            "dense_10 (Dense)             (None, 64)                32832     \n",
            "_________________________________________________________________\n",
            "dense_11 (Dense)             (None, 1)                 65        \n",
            "=================================================================\n",
            "Total params: 256,830,721\n",
            "Trainable params: 32,897\n",
            "Non-trainable params: 256,797,824\n",
            "_________________________________________________________________\n"
          ]
        }
      ]
    },
    {
      "cell_type": "markdown",
      "metadata": {
        "id": "TNSjuqE5aNYS"
      },
      "source": [
        "#Finding the most wrong examples"
      ]
    },
    {
      "cell_type": "code",
      "metadata": {
        "id": "hgancUzLaD50"
      },
      "source": [
        ""
      ],
      "execution_count": null,
      "outputs": []
    }
  ]
}